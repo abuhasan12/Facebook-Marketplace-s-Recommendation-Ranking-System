{
 "cells": [
  {
   "cell_type": "markdown",
   "metadata": {},
   "source": [
    "Importing libraries"
   ]
  },
  {
   "cell_type": "code",
   "execution_count": 1,
   "metadata": {},
   "outputs": [],
   "source": [
    "import pandas as pd\n",
    "import numpy as np\n",
    "import joblib"
   ]
  },
  {
   "cell_type": "markdown",
   "metadata": {},
   "source": [
    "Loading the data"
   ]
  },
  {
   "cell_type": "code",
   "execution_count": 2,
   "metadata": {},
   "outputs": [],
   "source": [
    "data = joblib.load('ims_data')"
   ]
  },
  {
   "cell_type": "markdown",
   "metadata": {},
   "source": [
    "Creating dataframe from data"
   ]
  },
  {
   "cell_type": "code",
   "execution_count": 3,
   "metadata": {},
   "outputs": [],
   "source": [
    "df = pd.DataFrame(data, columns=['id', 'im_data'])"
   ]
  },
  {
   "cell_type": "code",
   "execution_count": 4,
   "metadata": {},
   "outputs": [
    {
     "data": {
      "text/html": [
       "<div>\n",
       "<style scoped>\n",
       "    .dataframe tbody tr th:only-of-type {\n",
       "        vertical-align: middle;\n",
       "    }\n",
       "\n",
       "    .dataframe tbody tr th {\n",
       "        vertical-align: top;\n",
       "    }\n",
       "\n",
       "    .dataframe thead th {\n",
       "        text-align: right;\n",
       "    }\n",
       "</style>\n",
       "<table border=\"1\" class=\"dataframe\">\n",
       "  <thead>\n",
       "    <tr style=\"text-align: right;\">\n",
       "      <th></th>\n",
       "      <th>id</th>\n",
       "      <th>im_data</th>\n",
       "    </tr>\n",
       "  </thead>\n",
       "  <tbody>\n",
       "    <tr>\n",
       "      <th>0</th>\n",
       "      <td>00009f42-5d0e-4315-8c81-291aaf17cfad</td>\n",
       "      <td>[[[0, 0, 0], [0, 0, 0], [0, 0, 0], [0, 0, 0], ...</td>\n",
       "    </tr>\n",
       "    <tr>\n",
       "      <th>1</th>\n",
       "      <td>0008b7ed-ffca-44a3-93c4-0b82592f5f29</td>\n",
       "      <td>[[[0, 0, 0], [0, 0, 0], [0, 0, 0], [0, 0, 0], ...</td>\n",
       "    </tr>\n",
       "    <tr>\n",
       "      <th>2</th>\n",
       "      <td>00234e78-17b3-49c0-96c7-b6d58ee9a874</td>\n",
       "      <td>[[[0, 0, 0], [0, 0, 0], [0, 0, 0], [0, 0, 0], ...</td>\n",
       "    </tr>\n",
       "    <tr>\n",
       "      <th>3</th>\n",
       "      <td>002432ba-3741-455a-a06c-f07393cd9a9e</td>\n",
       "      <td>[[[0, 0, 0], [0, 0, 0], [0, 0, 0], [0, 0, 0], ...</td>\n",
       "    </tr>\n",
       "    <tr>\n",
       "      <th>4</th>\n",
       "      <td>00254ecb-442a-41f0-beaa-11dc613b8dd1</td>\n",
       "      <td>[[[0, 0, 0], [0, 0, 0], [0, 0, 0], [0, 0, 0], ...</td>\n",
       "    </tr>\n",
       "  </tbody>\n",
       "</table>\n",
       "</div>"
      ],
      "text/plain": [
       "                                     id  \\\n",
       "0  00009f42-5d0e-4315-8c81-291aaf17cfad   \n",
       "1  0008b7ed-ffca-44a3-93c4-0b82592f5f29   \n",
       "2  00234e78-17b3-49c0-96c7-b6d58ee9a874   \n",
       "3  002432ba-3741-455a-a06c-f07393cd9a9e   \n",
       "4  00254ecb-442a-41f0-beaa-11dc613b8dd1   \n",
       "\n",
       "                                             im_data  \n",
       "0  [[[0, 0, 0], [0, 0, 0], [0, 0, 0], [0, 0, 0], ...  \n",
       "1  [[[0, 0, 0], [0, 0, 0], [0, 0, 0], [0, 0, 0], ...  \n",
       "2  [[[0, 0, 0], [0, 0, 0], [0, 0, 0], [0, 0, 0], ...  \n",
       "3  [[[0, 0, 0], [0, 0, 0], [0, 0, 0], [0, 0, 0], ...  \n",
       "4  [[[0, 0, 0], [0, 0, 0], [0, 0, 0], [0, 0, 0], ...  "
      ]
     },
     "execution_count": 4,
     "metadata": {},
     "output_type": "execute_result"
    }
   ],
   "source": [
    "df.head()"
   ]
  },
  {
   "cell_type": "code",
   "execution_count": 5,
   "metadata": {},
   "outputs": [
    {
     "data": {
      "text/plain": [
       "(12604, 2)"
      ]
     },
     "execution_count": 5,
     "metadata": {},
     "output_type": "execute_result"
    }
   ],
   "source": [
    "df.shape"
   ]
  },
  {
   "cell_type": "markdown",
   "metadata": {},
   "source": [
    "Product id is needed for each image so creating a df from the Images csv file which has unique id and product id for each image"
   ]
  },
  {
   "cell_type": "code",
   "execution_count": 6,
   "metadata": {},
   "outputs": [],
   "source": [
    "images_df = pd.read_csv('Images.csv')"
   ]
  },
  {
   "cell_type": "code",
   "execution_count": 7,
   "metadata": {},
   "outputs": [
    {
     "data": {
      "text/plain": [
       "Index(['Unnamed: 0', 'id', 'product_id', 'bucket_link', 'image_ref',\n",
       "       'create_time'],\n",
       "      dtype='object')"
      ]
     },
     "execution_count": 7,
     "metadata": {},
     "output_type": "execute_result"
    }
   ],
   "source": [
    "images_df.columns"
   ]
  },
  {
   "cell_type": "code",
   "execution_count": 8,
   "metadata": {},
   "outputs": [
    {
     "data": {
      "text/plain": [
       "(12604, 6)"
      ]
     },
     "execution_count": 8,
     "metadata": {},
     "output_type": "execute_result"
    }
   ],
   "source": [
    "images_df.shape"
   ]
  },
  {
   "cell_type": "code",
   "execution_count": 9,
   "metadata": {},
   "outputs": [
    {
     "data": {
      "text/html": [
       "<div>\n",
       "<style scoped>\n",
       "    .dataframe tbody tr th:only-of-type {\n",
       "        vertical-align: middle;\n",
       "    }\n",
       "\n",
       "    .dataframe tbody tr th {\n",
       "        vertical-align: top;\n",
       "    }\n",
       "\n",
       "    .dataframe thead th {\n",
       "        text-align: right;\n",
       "    }\n",
       "</style>\n",
       "<table border=\"1\" class=\"dataframe\">\n",
       "  <thead>\n",
       "    <tr style=\"text-align: right;\">\n",
       "      <th></th>\n",
       "      <th>Unnamed: 0</th>\n",
       "      <th>id</th>\n",
       "      <th>product_id</th>\n",
       "      <th>bucket_link</th>\n",
       "      <th>image_ref</th>\n",
       "      <th>create_time</th>\n",
       "    </tr>\n",
       "  </thead>\n",
       "  <tbody>\n",
       "    <tr>\n",
       "      <th>0</th>\n",
       "      <td>0</td>\n",
       "      <td>912bb259-3ad9-457b-9db1-ce1da9016057</td>\n",
       "      <td>5f5f57d7-778f-4336-bb10-b43863418c8c</td>\n",
       "      <td>https://aicore-projects-datasets-prod.s3.eu-we...</td>\n",
       "      <td>koQAAOSwhZRiE5dD</td>\n",
       "      <td>2022-02-26</td>\n",
       "    </tr>\n",
       "    <tr>\n",
       "      <th>1</th>\n",
       "      <td>1</td>\n",
       "      <td>b166d305-b852-4bdd-83f4-465b20da94fa</td>\n",
       "      <td>5f5f57d7-778f-4336-bb10-b43863418c8c</td>\n",
       "      <td>https://aicore-projects-datasets-prod.s3.eu-we...</td>\n",
       "      <td>9vgAAOSw8sRiE5dE</td>\n",
       "      <td>2022-02-26</td>\n",
       "    </tr>\n",
       "    <tr>\n",
       "      <th>2</th>\n",
       "      <td>2</td>\n",
       "      <td>68f5a29d-0075-4d60-81c1-ab684a82e50c</td>\n",
       "      <td>c2c8949f-3cde-4651-a234-4a4a1b2a9ad4</td>\n",
       "      <td>https://aicore-projects-datasets-prod.s3.eu-we...</td>\n",
       "      <td>FlwAAOSwCkpiFNlV</td>\n",
       "      <td>2022-02-26</td>\n",
       "    </tr>\n",
       "    <tr>\n",
       "      <th>3</th>\n",
       "      <td>3</td>\n",
       "      <td>f6a309d7-d247-446a-9b5e-aceefdd4334d</td>\n",
       "      <td>c2c8949f-3cde-4651-a234-4a4a1b2a9ad4</td>\n",
       "      <td>https://aicore-projects-datasets-prod.s3.eu-we...</td>\n",
       "      <td>4gIAAOSw4ORiFNlZ</td>\n",
       "      <td>2022-02-26</td>\n",
       "    </tr>\n",
       "    <tr>\n",
       "      <th>4</th>\n",
       "      <td>4</td>\n",
       "      <td>2c2b3a6f-15b3-4289-937a-15482d9f5781</td>\n",
       "      <td>8292aa4e-7f1b-4655-bf0e-f1f2c9e3ffaf</td>\n",
       "      <td>https://aicore-projects-datasets-prod.s3.eu-we...</td>\n",
       "      <td>sHoAAOSwQoRiD7vf</td>\n",
       "      <td>2022-02-26</td>\n",
       "    </tr>\n",
       "  </tbody>\n",
       "</table>\n",
       "</div>"
      ],
      "text/plain": [
       "   Unnamed: 0                                    id  \\\n",
       "0           0  912bb259-3ad9-457b-9db1-ce1da9016057   \n",
       "1           1  b166d305-b852-4bdd-83f4-465b20da94fa   \n",
       "2           2  68f5a29d-0075-4d60-81c1-ab684a82e50c   \n",
       "3           3  f6a309d7-d247-446a-9b5e-aceefdd4334d   \n",
       "4           4  2c2b3a6f-15b3-4289-937a-15482d9f5781   \n",
       "\n",
       "                             product_id  \\\n",
       "0  5f5f57d7-778f-4336-bb10-b43863418c8c   \n",
       "1  5f5f57d7-778f-4336-bb10-b43863418c8c   \n",
       "2  c2c8949f-3cde-4651-a234-4a4a1b2a9ad4   \n",
       "3  c2c8949f-3cde-4651-a234-4a4a1b2a9ad4   \n",
       "4  8292aa4e-7f1b-4655-bf0e-f1f2c9e3ffaf   \n",
       "\n",
       "                                         bucket_link         image_ref  \\\n",
       "0  https://aicore-projects-datasets-prod.s3.eu-we...  koQAAOSwhZRiE5dD   \n",
       "1  https://aicore-projects-datasets-prod.s3.eu-we...  9vgAAOSw8sRiE5dE   \n",
       "2  https://aicore-projects-datasets-prod.s3.eu-we...  FlwAAOSwCkpiFNlV   \n",
       "3  https://aicore-projects-datasets-prod.s3.eu-we...  4gIAAOSw4ORiFNlZ   \n",
       "4  https://aicore-projects-datasets-prod.s3.eu-we...  sHoAAOSwQoRiD7vf   \n",
       "\n",
       "  create_time  \n",
       "0  2022-02-26  \n",
       "1  2022-02-26  \n",
       "2  2022-02-26  \n",
       "3  2022-02-26  \n",
       "4  2022-02-26  "
      ]
     },
     "execution_count": 9,
     "metadata": {},
     "output_type": "execute_result"
    }
   ],
   "source": [
    "images_df.head()"
   ]
  },
  {
   "cell_type": "markdown",
   "metadata": {},
   "source": [
    "Merging both dfs to have product id for each image"
   ]
  },
  {
   "cell_type": "code",
   "execution_count": 10,
   "metadata": {},
   "outputs": [],
   "source": [
    "df = df.merge(images_df, on='id')"
   ]
  },
  {
   "cell_type": "code",
   "execution_count": 11,
   "metadata": {},
   "outputs": [
    {
     "data": {
      "text/plain": [
       "(12604, 7)"
      ]
     },
     "execution_count": 11,
     "metadata": {},
     "output_type": "execute_result"
    }
   ],
   "source": [
    "df.shape"
   ]
  },
  {
   "cell_type": "code",
   "execution_count": 12,
   "metadata": {},
   "outputs": [
    {
     "data": {
      "text/plain": [
       "Index(['id', 'im_data', 'Unnamed: 0', 'product_id', 'bucket_link', 'image_ref',\n",
       "       'create_time'],\n",
       "      dtype='object')"
      ]
     },
     "execution_count": 12,
     "metadata": {},
     "output_type": "execute_result"
    }
   ],
   "source": [
    "df.columns"
   ]
  },
  {
   "cell_type": "markdown",
   "metadata": {},
   "source": [
    "Dropping unneeded columns"
   ]
  },
  {
   "cell_type": "code",
   "execution_count": 13,
   "metadata": {},
   "outputs": [],
   "source": [
    "df = df.drop(['id', 'Unnamed: 0', 'bucket_link', 'image_ref', 'create_time'], axis=1)"
   ]
  },
  {
   "cell_type": "code",
   "execution_count": 14,
   "metadata": {},
   "outputs": [
    {
     "data": {
      "text/plain": [
       "Index(['im_data', 'product_id'], dtype='object')"
      ]
     },
     "execution_count": 14,
     "metadata": {},
     "output_type": "execute_result"
    }
   ],
   "source": [
    "df.columns"
   ]
  },
  {
   "cell_type": "code",
   "execution_count": 15,
   "metadata": {},
   "outputs": [
    {
     "data": {
      "text/plain": [
       "(12604, 2)"
      ]
     },
     "execution_count": 15,
     "metadata": {},
     "output_type": "execute_result"
    }
   ],
   "source": [
    "df.shape"
   ]
  },
  {
   "cell_type": "markdown",
   "metadata": {},
   "source": [
    "Create df for Products csv which has category data on each product"
   ]
  },
  {
   "cell_type": "code",
   "execution_count": 16,
   "metadata": {},
   "outputs": [],
   "source": [
    "product_df = pd.read_csv('./data/Products.csv', lineterminator='\\n')"
   ]
  },
  {
   "cell_type": "code",
   "execution_count": 17,
   "metadata": {},
   "outputs": [
    {
     "data": {
      "text/plain": [
       "Index(['Unnamed: 0', 'id', 'product_name', 'category', 'product_description',\n",
       "       'price', 'location', 'url', 'page_id', 'create_time'],\n",
       "      dtype='object')"
      ]
     },
     "execution_count": 17,
     "metadata": {},
     "output_type": "execute_result"
    }
   ],
   "source": [
    "product_df.columns"
   ]
  },
  {
   "cell_type": "code",
   "execution_count": 18,
   "metadata": {},
   "outputs": [
    {
     "data": {
      "text/plain": [
       "(7156, 10)"
      ]
     },
     "execution_count": 18,
     "metadata": {},
     "output_type": "execute_result"
    }
   ],
   "source": [
    "product_df.shape"
   ]
  },
  {
   "cell_type": "markdown",
   "metadata": {},
   "source": [
    "Renaming column for merging"
   ]
  },
  {
   "cell_type": "code",
   "execution_count": 19,
   "metadata": {},
   "outputs": [],
   "source": [
    "product_df.rename({'id' : 'product_id'}, axis=1, inplace=True)"
   ]
  },
  {
   "cell_type": "code",
   "execution_count": 20,
   "metadata": {},
   "outputs": [
    {
     "data": {
      "text/plain": [
       "Index(['Unnamed: 0', 'product_id', 'product_name', 'category',\n",
       "       'product_description', 'price', 'location', 'url', 'page_id',\n",
       "       'create_time'],\n",
       "      dtype='object')"
      ]
     },
     "execution_count": 20,
     "metadata": {},
     "output_type": "execute_result"
    }
   ],
   "source": [
    "product_df.columns"
   ]
  },
  {
   "cell_type": "markdown",
   "metadata": {},
   "source": [
    "Merge both dfs so each image has the info from the products df"
   ]
  },
  {
   "cell_type": "code",
   "execution_count": 21,
   "metadata": {},
   "outputs": [],
   "source": [
    "df = df.merge(product_df, on='product_id', how='left')"
   ]
  },
  {
   "cell_type": "code",
   "execution_count": 22,
   "metadata": {},
   "outputs": [
    {
     "data": {
      "text/plain": [
       "(12604, 11)"
      ]
     },
     "execution_count": 22,
     "metadata": {},
     "output_type": "execute_result"
    }
   ],
   "source": [
    "df.shape"
   ]
  },
  {
   "cell_type": "code",
   "execution_count": 23,
   "metadata": {},
   "outputs": [
    {
     "data": {
      "text/plain": [
       "Index(['im_data', 'product_id', 'Unnamed: 0', 'product_name', 'category',\n",
       "       'product_description', 'price', 'location', 'url', 'page_id',\n",
       "       'create_time'],\n",
       "      dtype='object')"
      ]
     },
     "execution_count": 23,
     "metadata": {},
     "output_type": "execute_result"
    }
   ],
   "source": [
    "df.columns"
   ]
  },
  {
   "cell_type": "code",
   "execution_count": 24,
   "metadata": {},
   "outputs": [
    {
     "data": {
      "text/html": [
       "<div>\n",
       "<style scoped>\n",
       "    .dataframe tbody tr th:only-of-type {\n",
       "        vertical-align: middle;\n",
       "    }\n",
       "\n",
       "    .dataframe tbody tr th {\n",
       "        vertical-align: top;\n",
       "    }\n",
       "\n",
       "    .dataframe thead th {\n",
       "        text-align: right;\n",
       "    }\n",
       "</style>\n",
       "<table border=\"1\" class=\"dataframe\">\n",
       "  <thead>\n",
       "    <tr style=\"text-align: right;\">\n",
       "      <th></th>\n",
       "      <th>im_data</th>\n",
       "      <th>product_id</th>\n",
       "      <th>Unnamed: 0</th>\n",
       "      <th>product_name</th>\n",
       "      <th>category</th>\n",
       "      <th>product_description</th>\n",
       "      <th>price</th>\n",
       "      <th>location</th>\n",
       "      <th>url</th>\n",
       "      <th>page_id</th>\n",
       "      <th>create_time</th>\n",
       "    </tr>\n",
       "  </thead>\n",
       "  <tbody>\n",
       "    <tr>\n",
       "      <th>0</th>\n",
       "      <td>[[[0, 0, 0], [0, 0, 0], [0, 0, 0], [0, 0, 0], ...</td>\n",
       "      <td>8ddabc6d-8b1f-49cb-b529-86284955df19</td>\n",
       "      <td>645</td>\n",
       "      <td>KING SIZE BEDDING | in Bedminster, Bristol | G...</td>\n",
       "      <td>Home &amp; Garden / Beds &amp; Bedroom Furniture / Lin...</td>\n",
       "      <td>Sets of king size bedding 1 mocha color duvet ...</td>\n",
       "      <td>£50.00</td>\n",
       "      <td>Bedminster, Bristol</td>\n",
       "      <td>https://www.gumtree.com/p/linen-bedding/king-s...</td>\n",
       "      <td>1426262205</td>\n",
       "      <td>2022-02-26</td>\n",
       "    </tr>\n",
       "    <tr>\n",
       "      <th>1</th>\n",
       "      <td>[[[0, 0, 0], [0, 0, 0], [0, 0, 0], [0, 0, 0], ...</td>\n",
       "      <td>fe3da19a-4cb7-4eae-b7ac-b36fa2f6f2e6</td>\n",
       "      <td>3307</td>\n",
       "      <td>Candy condenser tumble dryer new | in Aberdeen...</td>\n",
       "      <td>Appliances / Tumble Dryers</td>\n",
       "      <td>White freestanding dryer Condenser Candy Cs C9...</td>\n",
       "      <td>£195.00</td>\n",
       "      <td>Aberdeen</td>\n",
       "      <td>https://www.gumtree.com/p/tumble-dryers/candy-...</td>\n",
       "      <td>1426338405</td>\n",
       "      <td>2022-02-27</td>\n",
       "    </tr>\n",
       "    <tr>\n",
       "      <th>2</th>\n",
       "      <td>[[[0, 0, 0], [0, 0, 0], [0, 0, 0], [0, 0, 0], ...</td>\n",
       "      <td>45880a72-dd3d-4ff7-b9bf-8813c71a29e0</td>\n",
       "      <td>6429</td>\n",
       "      <td>Office storage cabinet with lock and key - can...</td>\n",
       "      <td>Office Furniture &amp; Equipment / Office Furnitur...</td>\n",
       "      <td>Overall in very good condition. Length 80 cm, ...</td>\n",
       "      <td>£50.00</td>\n",
       "      <td>Harborne, West Midlands</td>\n",
       "      <td>https://www.gumtree.com/p/storage-filing/offic...</td>\n",
       "      <td>1426704161</td>\n",
       "      <td>2022-02-27</td>\n",
       "    </tr>\n",
       "    <tr>\n",
       "      <th>3</th>\n",
       "      <td>[[[0, 0, 0], [0, 0, 0], [0, 0, 0], [0, 0, 0], ...</td>\n",
       "      <td>7d7d3fc3-ed8f-4857-b7dc-a01fdbd8fc2f</td>\n",
       "      <td>341</td>\n",
       "      <td>Brand new unused blind. Ordered wrong size | i...</td>\n",
       "      <td>Home &amp; Garden / Dining, Living Room Furniture ...</td>\n",
       "      <td>White blind   Size 116 cm width  x 56 cams dep...</td>\n",
       "      <td>£50.00</td>\n",
       "      <td>Eastleigh, Hampshire</td>\n",
       "      <td>https://www.gumtree.com/p/curtains-blinds-wind...</td>\n",
       "      <td>1349403483</td>\n",
       "      <td>2022-02-26</td>\n",
       "    </tr>\n",
       "    <tr>\n",
       "      <th>4</th>\n",
       "      <td>[[[0, 0, 0], [0, 0, 0], [0, 0, 0], [0, 0, 0], ...</td>\n",
       "      <td>64d3b413-7c66-4b20-b781-85284bd6fdf4</td>\n",
       "      <td>597</td>\n",
       "      <td>Light up corner unit display cabinet | in Norw...</td>\n",
       "      <td>Home &amp; Garden / Beds &amp; Bedroom Furniture / War...</td>\n",
       "      <td>Plug-in corner unit display cabinet with three...</td>\n",
       "      <td>£10.00</td>\n",
       "      <td>Norwich, Norfolk</td>\n",
       "      <td>https://www.gumtree.com/p/wardrobes-shelving-s...</td>\n",
       "      <td>1426705271</td>\n",
       "      <td>2022-02-26</td>\n",
       "    </tr>\n",
       "  </tbody>\n",
       "</table>\n",
       "</div>"
      ],
      "text/plain": [
       "                                             im_data  \\\n",
       "0  [[[0, 0, 0], [0, 0, 0], [0, 0, 0], [0, 0, 0], ...   \n",
       "1  [[[0, 0, 0], [0, 0, 0], [0, 0, 0], [0, 0, 0], ...   \n",
       "2  [[[0, 0, 0], [0, 0, 0], [0, 0, 0], [0, 0, 0], ...   \n",
       "3  [[[0, 0, 0], [0, 0, 0], [0, 0, 0], [0, 0, 0], ...   \n",
       "4  [[[0, 0, 0], [0, 0, 0], [0, 0, 0], [0, 0, 0], ...   \n",
       "\n",
       "                             product_id  Unnamed: 0  \\\n",
       "0  8ddabc6d-8b1f-49cb-b529-86284955df19         645   \n",
       "1  fe3da19a-4cb7-4eae-b7ac-b36fa2f6f2e6        3307   \n",
       "2  45880a72-dd3d-4ff7-b9bf-8813c71a29e0        6429   \n",
       "3  7d7d3fc3-ed8f-4857-b7dc-a01fdbd8fc2f         341   \n",
       "4  64d3b413-7c66-4b20-b781-85284bd6fdf4         597   \n",
       "\n",
       "                                        product_name  \\\n",
       "0  KING SIZE BEDDING | in Bedminster, Bristol | G...   \n",
       "1  Candy condenser tumble dryer new | in Aberdeen...   \n",
       "2  Office storage cabinet with lock and key - can...   \n",
       "3  Brand new unused blind. Ordered wrong size | i...   \n",
       "4  Light up corner unit display cabinet | in Norw...   \n",
       "\n",
       "                                            category  \\\n",
       "0  Home & Garden / Beds & Bedroom Furniture / Lin...   \n",
       "1                         Appliances / Tumble Dryers   \n",
       "2  Office Furniture & Equipment / Office Furnitur...   \n",
       "3  Home & Garden / Dining, Living Room Furniture ...   \n",
       "4  Home & Garden / Beds & Bedroom Furniture / War...   \n",
       "\n",
       "                                 product_description    price  \\\n",
       "0  Sets of king size bedding 1 mocha color duvet ...   £50.00   \n",
       "1  White freestanding dryer Condenser Candy Cs C9...  £195.00   \n",
       "2  Overall in very good condition. Length 80 cm, ...   £50.00   \n",
       "3  White blind   Size 116 cm width  x 56 cams dep...   £50.00   \n",
       "4  Plug-in corner unit display cabinet with three...   £10.00   \n",
       "\n",
       "                  location                                                url  \\\n",
       "0      Bedminster, Bristol  https://www.gumtree.com/p/linen-bedding/king-s...   \n",
       "1                 Aberdeen  https://www.gumtree.com/p/tumble-dryers/candy-...   \n",
       "2  Harborne, West Midlands  https://www.gumtree.com/p/storage-filing/offic...   \n",
       "3     Eastleigh, Hampshire  https://www.gumtree.com/p/curtains-blinds-wind...   \n",
       "4         Norwich, Norfolk  https://www.gumtree.com/p/wardrobes-shelving-s...   \n",
       "\n",
       "      page_id create_time  \n",
       "0  1426262205  2022-02-26  \n",
       "1  1426338405  2022-02-27  \n",
       "2  1426704161  2022-02-27  \n",
       "3  1349403483  2022-02-26  \n",
       "4  1426705271  2022-02-26  "
      ]
     },
     "execution_count": 24,
     "metadata": {},
     "output_type": "execute_result"
    }
   ],
   "source": [
    "df.head()"
   ]
  },
  {
   "cell_type": "code",
   "execution_count": 25,
   "metadata": {},
   "outputs": [],
   "source": [
    "df = df.dropna(subset=['category'])"
   ]
  },
  {
   "cell_type": "code",
   "execution_count": 26,
   "metadata": {},
   "outputs": [
    {
     "data": {
      "text/plain": [
       "(12604, 11)"
      ]
     },
     "execution_count": 26,
     "metadata": {},
     "output_type": "execute_result"
    }
   ],
   "source": [
    "df.shape"
   ]
  },
  {
   "cell_type": "markdown",
   "metadata": {},
   "source": [
    "Most, if not all, products had two images. Therefore, there should be (mostly) two entries for each product id which will be checked:"
   ]
  },
  {
   "cell_type": "code",
   "execution_count": 27,
   "metadata": {},
   "outputs": [
    {
     "data": {
      "text/html": [
       "<div>\n",
       "<style scoped>\n",
       "    .dataframe tbody tr th:only-of-type {\n",
       "        vertical-align: middle;\n",
       "    }\n",
       "\n",
       "    .dataframe tbody tr th {\n",
       "        vertical-align: top;\n",
       "    }\n",
       "\n",
       "    .dataframe thead th {\n",
       "        text-align: right;\n",
       "    }\n",
       "</style>\n",
       "<table border=\"1\" class=\"dataframe\">\n",
       "  <thead>\n",
       "    <tr style=\"text-align: right;\">\n",
       "      <th></th>\n",
       "      <th>im_data</th>\n",
       "      <th>product_id</th>\n",
       "      <th>Unnamed: 0</th>\n",
       "      <th>product_name</th>\n",
       "      <th>category</th>\n",
       "      <th>product_description</th>\n",
       "      <th>price</th>\n",
       "      <th>location</th>\n",
       "      <th>url</th>\n",
       "      <th>page_id</th>\n",
       "      <th>create_time</th>\n",
       "    </tr>\n",
       "  </thead>\n",
       "  <tbody>\n",
       "    <tr>\n",
       "      <th>1853</th>\n",
       "      <td>[[[0, 0, 0], [0, 0, 0], [0, 0, 0], [0, 0, 0], ...</td>\n",
       "      <td>000bfa09-a91e-42ee-a2c8-0512ed6d3dbb</td>\n",
       "      <td>2553</td>\n",
       "      <td>Bicycle | in Donegall Road, Belfast | Gumtree</td>\n",
       "      <td>Sports, Leisure &amp; Travel / Bicycles</td>\n",
       "      <td>Women's mountain bike bossGood conditionWheels...</td>\n",
       "      <td>£115.00</td>\n",
       "      <td>Donegall Road, Belfast</td>\n",
       "      <td>https://www.gumtree.com/p/bicycles/bicycle/142...</td>\n",
       "      <td>1426713872</td>\n",
       "      <td>2022-02-27</td>\n",
       "    </tr>\n",
       "    <tr>\n",
       "      <th>3190</th>\n",
       "      <td>[[[0, 0, 0], [0, 0, 0], [0, 0, 0], [0, 0, 0], ...</td>\n",
       "      <td>000bfa09-a91e-42ee-a2c8-0512ed6d3dbb</td>\n",
       "      <td>2553</td>\n",
       "      <td>Bicycle | in Donegall Road, Belfast | Gumtree</td>\n",
       "      <td>Sports, Leisure &amp; Travel / Bicycles</td>\n",
       "      <td>Women's mountain bike bossGood conditionWheels...</td>\n",
       "      <td>£115.00</td>\n",
       "      <td>Donegall Road, Belfast</td>\n",
       "      <td>https://www.gumtree.com/p/bicycles/bicycle/142...</td>\n",
       "      <td>1426713872</td>\n",
       "      <td>2022-02-27</td>\n",
       "    </tr>\n",
       "    <tr>\n",
       "      <th>10701</th>\n",
       "      <td>[[[0, 0, 0], [0, 0, 0], [0, 0, 0], [0, 0, 0], ...</td>\n",
       "      <td>000e4808-0c14-496d-bbe9-15f675b07ff5</td>\n",
       "      <td>1762</td>\n",
       "      <td>Polen 20+50+100+200+500+1000 zł 6pcs UNC | in ...</td>\n",
       "      <td>Other Goods / Hobbies, Interests &amp; Collectibles</td>\n",
       "      <td>For sale: Polen 20+50+100+200+500+1000 zł 6pcs...</td>\n",
       "      <td>£11.00</td>\n",
       "      <td>Westminster, London</td>\n",
       "      <td>https://www.gumtree.com/p/hobbies-collectibles...</td>\n",
       "      <td>1424551703</td>\n",
       "      <td>2022-02-27</td>\n",
       "    </tr>\n",
       "    <tr>\n",
       "      <th>3777</th>\n",
       "      <td>[[[0, 0, 0], [0, 0, 0], [0, 0, 0], [0, 0, 0], ...</td>\n",
       "      <td>000e4808-0c14-496d-bbe9-15f675b07ff5</td>\n",
       "      <td>1762</td>\n",
       "      <td>Polen 20+50+100+200+500+1000 zł 6pcs UNC | in ...</td>\n",
       "      <td>Other Goods / Hobbies, Interests &amp; Collectibles</td>\n",
       "      <td>For sale: Polen 20+50+100+200+500+1000 zł 6pcs...</td>\n",
       "      <td>£11.00</td>\n",
       "      <td>Westminster, London</td>\n",
       "      <td>https://www.gumtree.com/p/hobbies-collectibles...</td>\n",
       "      <td>1424551703</td>\n",
       "      <td>2022-02-27</td>\n",
       "    </tr>\n",
       "    <tr>\n",
       "      <th>11392</th>\n",
       "      <td>[[[0, 0, 0], [0, 0, 0], [0, 0, 0], [0, 0, 0], ...</td>\n",
       "      <td>0011ab0d-aaa1-4d48-9633-2711cf805a78</td>\n",
       "      <td>4035</td>\n",
       "      <td>Oasis American Supernova CD | in Aberdeen | Gu...</td>\n",
       "      <td>Music, Films, Books &amp; Games / Music / CDs</td>\n",
       "      <td>One you wont find in the shops for collectors,...</td>\n",
       "      <td>£5.00</td>\n",
       "      <td>Aberdeen</td>\n",
       "      <td>https://www.gumtree.com/p/cds/oasis-american-s...</td>\n",
       "      <td>1426715333</td>\n",
       "      <td>2022-02-27</td>\n",
       "    </tr>\n",
       "    <tr>\n",
       "      <th>...</th>\n",
       "      <td>...</td>\n",
       "      <td>...</td>\n",
       "      <td>...</td>\n",
       "      <td>...</td>\n",
       "      <td>...</td>\n",
       "      <td>...</td>\n",
       "      <td>...</td>\n",
       "      <td>...</td>\n",
       "      <td>...</td>\n",
       "      <td>...</td>\n",
       "      <td>...</td>\n",
       "    </tr>\n",
       "    <tr>\n",
       "      <th>666</th>\n",
       "      <td>[[[0, 0, 0], [0, 0, 0], [0, 0, 0], [0, 0, 0], ...</td>\n",
       "      <td>ffee27c1-e1fe-4590-98e2-f93a895474bc</td>\n",
       "      <td>2764</td>\n",
       "      <td>Victorian Black &amp; Red Tiles 6x6 in; Reclaimed ...</td>\n",
       "      <td>DIY Tools &amp; Materials / Building Materials / C...</td>\n",
       "      <td>These exquisite original tiles have been recov...</td>\n",
       "      <td>£397.00</td>\n",
       "      <td>Stamford, Lincolnshire</td>\n",
       "      <td>https://www.gumtree.com/p/ceramic-tiles/victor...</td>\n",
       "      <td>1420344007</td>\n",
       "      <td>2022-02-27</td>\n",
       "    </tr>\n",
       "    <tr>\n",
       "      <th>274</th>\n",
       "      <td>[[[0, 0, 0], [0, 0, 0], [0, 0, 0], [0, 0, 0], ...</td>\n",
       "      <td>fff2371b-b080-47dc-96a3-c717ed41640a</td>\n",
       "      <td>3273</td>\n",
       "      <td>Miele washing machine 7kg 1400 spin mint condi...</td>\n",
       "      <td>Appliances / Washing Machines</td>\n",
       "      <td>Miele washing machineModel 33701400 spin speed...</td>\n",
       "      <td>£295.00</td>\n",
       "      <td>Blackburn, Lancashire</td>\n",
       "      <td>https://www.gumtree.com/p/washing-machines/mie...</td>\n",
       "      <td>1426720625</td>\n",
       "      <td>2022-02-27</td>\n",
       "    </tr>\n",
       "    <tr>\n",
       "      <th>316</th>\n",
       "      <td>[[[0, 0, 0], [0, 0, 0], [0, 0, 0], [0, 0, 0], ...</td>\n",
       "      <td>fff2371b-b080-47dc-96a3-c717ed41640a</td>\n",
       "      <td>3273</td>\n",
       "      <td>Miele washing machine 7kg 1400 spin mint condi...</td>\n",
       "      <td>Appliances / Washing Machines</td>\n",
       "      <td>Miele washing machineModel 33701400 spin speed...</td>\n",
       "      <td>£295.00</td>\n",
       "      <td>Blackburn, Lancashire</td>\n",
       "      <td>https://www.gumtree.com/p/washing-machines/mie...</td>\n",
       "      <td>1426720625</td>\n",
       "      <td>2022-02-27</td>\n",
       "    </tr>\n",
       "    <tr>\n",
       "      <th>12398</th>\n",
       "      <td>[[[0, 0, 0], [0, 0, 0], [0, 0, 0], [0, 0, 0], ...</td>\n",
       "      <td>fffbb9f5-423d-470a-a0d5-018177258d8b</td>\n",
       "      <td>4738</td>\n",
       "      <td>Kingston HyperX Beast 16GB (2x8GB) PC3-17100C1...</td>\n",
       "      <td>Computers &amp; Software / Computers, Laptops &amp; Ne...</td>\n",
       "      <td>Gaming PC RAM Kingston HyperX Beast 16GB Kit (...</td>\n",
       "      <td>£80.00</td>\n",
       "      <td>Brighton, East Sussex</td>\n",
       "      <td>https://www.gumtree.com/p/memory-motherboards-...</td>\n",
       "      <td>1422093138</td>\n",
       "      <td>2022-02-27</td>\n",
       "    </tr>\n",
       "    <tr>\n",
       "      <th>1112</th>\n",
       "      <td>[[[0, 0, 0], [0, 0, 0], [0, 0, 0], [0, 0, 0], ...</td>\n",
       "      <td>fffbb9f5-423d-470a-a0d5-018177258d8b</td>\n",
       "      <td>4738</td>\n",
       "      <td>Kingston HyperX Beast 16GB (2x8GB) PC3-17100C1...</td>\n",
       "      <td>Computers &amp; Software / Computers, Laptops &amp; Ne...</td>\n",
       "      <td>Gaming PC RAM Kingston HyperX Beast 16GB Kit (...</td>\n",
       "      <td>£80.00</td>\n",
       "      <td>Brighton, East Sussex</td>\n",
       "      <td>https://www.gumtree.com/p/memory-motherboards-...</td>\n",
       "      <td>1422093138</td>\n",
       "      <td>2022-02-27</td>\n",
       "    </tr>\n",
       "  </tbody>\n",
       "</table>\n",
       "<p>12604 rows × 11 columns</p>\n",
       "</div>"
      ],
      "text/plain": [
       "                                                 im_data  \\\n",
       "1853   [[[0, 0, 0], [0, 0, 0], [0, 0, 0], [0, 0, 0], ...   \n",
       "3190   [[[0, 0, 0], [0, 0, 0], [0, 0, 0], [0, 0, 0], ...   \n",
       "10701  [[[0, 0, 0], [0, 0, 0], [0, 0, 0], [0, 0, 0], ...   \n",
       "3777   [[[0, 0, 0], [0, 0, 0], [0, 0, 0], [0, 0, 0], ...   \n",
       "11392  [[[0, 0, 0], [0, 0, 0], [0, 0, 0], [0, 0, 0], ...   \n",
       "...                                                  ...   \n",
       "666    [[[0, 0, 0], [0, 0, 0], [0, 0, 0], [0, 0, 0], ...   \n",
       "274    [[[0, 0, 0], [0, 0, 0], [0, 0, 0], [0, 0, 0], ...   \n",
       "316    [[[0, 0, 0], [0, 0, 0], [0, 0, 0], [0, 0, 0], ...   \n",
       "12398  [[[0, 0, 0], [0, 0, 0], [0, 0, 0], [0, 0, 0], ...   \n",
       "1112   [[[0, 0, 0], [0, 0, 0], [0, 0, 0], [0, 0, 0], ...   \n",
       "\n",
       "                                 product_id  Unnamed: 0  \\\n",
       "1853   000bfa09-a91e-42ee-a2c8-0512ed6d3dbb        2553   \n",
       "3190   000bfa09-a91e-42ee-a2c8-0512ed6d3dbb        2553   \n",
       "10701  000e4808-0c14-496d-bbe9-15f675b07ff5        1762   \n",
       "3777   000e4808-0c14-496d-bbe9-15f675b07ff5        1762   \n",
       "11392  0011ab0d-aaa1-4d48-9633-2711cf805a78        4035   \n",
       "...                                     ...         ...   \n",
       "666    ffee27c1-e1fe-4590-98e2-f93a895474bc        2764   \n",
       "274    fff2371b-b080-47dc-96a3-c717ed41640a        3273   \n",
       "316    fff2371b-b080-47dc-96a3-c717ed41640a        3273   \n",
       "12398  fffbb9f5-423d-470a-a0d5-018177258d8b        4738   \n",
       "1112   fffbb9f5-423d-470a-a0d5-018177258d8b        4738   \n",
       "\n",
       "                                            product_name  \\\n",
       "1853       Bicycle | in Donegall Road, Belfast | Gumtree   \n",
       "3190       Bicycle | in Donegall Road, Belfast | Gumtree   \n",
       "10701  Polen 20+50+100+200+500+1000 zł 6pcs UNC | in ...   \n",
       "3777   Polen 20+50+100+200+500+1000 zł 6pcs UNC | in ...   \n",
       "11392  Oasis American Supernova CD | in Aberdeen | Gu...   \n",
       "...                                                  ...   \n",
       "666    Victorian Black & Red Tiles 6x6 in; Reclaimed ...   \n",
       "274    Miele washing machine 7kg 1400 spin mint condi...   \n",
       "316    Miele washing machine 7kg 1400 spin mint condi...   \n",
       "12398  Kingston HyperX Beast 16GB (2x8GB) PC3-17100C1...   \n",
       "1112   Kingston HyperX Beast 16GB (2x8GB) PC3-17100C1...   \n",
       "\n",
       "                                                category  \\\n",
       "1853                 Sports, Leisure & Travel / Bicycles   \n",
       "3190                 Sports, Leisure & Travel / Bicycles   \n",
       "10701    Other Goods / Hobbies, Interests & Collectibles   \n",
       "3777     Other Goods / Hobbies, Interests & Collectibles   \n",
       "11392          Music, Films, Books & Games / Music / CDs   \n",
       "...                                                  ...   \n",
       "666    DIY Tools & Materials / Building Materials / C...   \n",
       "274                        Appliances / Washing Machines   \n",
       "316                        Appliances / Washing Machines   \n",
       "12398  Computers & Software / Computers, Laptops & Ne...   \n",
       "1112   Computers & Software / Computers, Laptops & Ne...   \n",
       "\n",
       "                                     product_description    price  \\\n",
       "1853   Women's mountain bike bossGood conditionWheels...  £115.00   \n",
       "3190   Women's mountain bike bossGood conditionWheels...  £115.00   \n",
       "10701  For sale: Polen 20+50+100+200+500+1000 zł 6pcs...   £11.00   \n",
       "3777   For sale: Polen 20+50+100+200+500+1000 zł 6pcs...   £11.00   \n",
       "11392  One you wont find in the shops for collectors,...    £5.00   \n",
       "...                                                  ...      ...   \n",
       "666    These exquisite original tiles have been recov...  £397.00   \n",
       "274    Miele washing machineModel 33701400 spin speed...  £295.00   \n",
       "316    Miele washing machineModel 33701400 spin speed...  £295.00   \n",
       "12398  Gaming PC RAM Kingston HyperX Beast 16GB Kit (...   £80.00   \n",
       "1112   Gaming PC RAM Kingston HyperX Beast 16GB Kit (...   £80.00   \n",
       "\n",
       "                     location  \\\n",
       "1853   Donegall Road, Belfast   \n",
       "3190   Donegall Road, Belfast   \n",
       "10701     Westminster, London   \n",
       "3777      Westminster, London   \n",
       "11392                Aberdeen   \n",
       "...                       ...   \n",
       "666    Stamford, Lincolnshire   \n",
       "274     Blackburn, Lancashire   \n",
       "316     Blackburn, Lancashire   \n",
       "12398   Brighton, East Sussex   \n",
       "1112    Brighton, East Sussex   \n",
       "\n",
       "                                                     url     page_id  \\\n",
       "1853   https://www.gumtree.com/p/bicycles/bicycle/142...  1426713872   \n",
       "3190   https://www.gumtree.com/p/bicycles/bicycle/142...  1426713872   \n",
       "10701  https://www.gumtree.com/p/hobbies-collectibles...  1424551703   \n",
       "3777   https://www.gumtree.com/p/hobbies-collectibles...  1424551703   \n",
       "11392  https://www.gumtree.com/p/cds/oasis-american-s...  1426715333   \n",
       "...                                                  ...         ...   \n",
       "666    https://www.gumtree.com/p/ceramic-tiles/victor...  1420344007   \n",
       "274    https://www.gumtree.com/p/washing-machines/mie...  1426720625   \n",
       "316    https://www.gumtree.com/p/washing-machines/mie...  1426720625   \n",
       "12398  https://www.gumtree.com/p/memory-motherboards-...  1422093138   \n",
       "1112   https://www.gumtree.com/p/memory-motherboards-...  1422093138   \n",
       "\n",
       "      create_time  \n",
       "1853   2022-02-27  \n",
       "3190   2022-02-27  \n",
       "10701  2022-02-27  \n",
       "3777   2022-02-27  \n",
       "11392  2022-02-27  \n",
       "...           ...  \n",
       "666    2022-02-27  \n",
       "274    2022-02-27  \n",
       "316    2022-02-27  \n",
       "12398  2022-02-27  \n",
       "1112   2022-02-27  \n",
       "\n",
       "[12604 rows x 11 columns]"
      ]
     },
     "execution_count": 27,
     "metadata": {},
     "output_type": "execute_result"
    }
   ],
   "source": [
    "df.sort_values('product_id')"
   ]
  },
  {
   "cell_type": "markdown",
   "metadata": {},
   "source": [
    "Get rid of sub hierarchys of Category column, only keep top level:"
   ]
  },
  {
   "cell_type": "code",
   "execution_count": 28,
   "metadata": {},
   "outputs": [],
   "source": [
    "df['category'] = df['category'].str.split('/', expand=True)[0]"
   ]
  },
  {
   "cell_type": "code",
   "execution_count": 29,
   "metadata": {},
   "outputs": [
    {
     "data": {
      "text/plain": [
       "Index(['im_data', 'product_id', 'Unnamed: 0', 'product_name', 'category',\n",
       "       'product_description', 'price', 'location', 'url', 'page_id',\n",
       "       'create_time'],\n",
       "      dtype='object')"
      ]
     },
     "execution_count": 29,
     "metadata": {},
     "output_type": "execute_result"
    }
   ],
   "source": [
    "df.columns"
   ]
  },
  {
   "cell_type": "code",
   "execution_count": 30,
   "metadata": {},
   "outputs": [
    {
     "data": {
      "text/html": [
       "<div>\n",
       "<style scoped>\n",
       "    .dataframe tbody tr th:only-of-type {\n",
       "        vertical-align: middle;\n",
       "    }\n",
       "\n",
       "    .dataframe tbody tr th {\n",
       "        vertical-align: top;\n",
       "    }\n",
       "\n",
       "    .dataframe thead th {\n",
       "        text-align: right;\n",
       "    }\n",
       "</style>\n",
       "<table border=\"1\" class=\"dataframe\">\n",
       "  <thead>\n",
       "    <tr style=\"text-align: right;\">\n",
       "      <th></th>\n",
       "      <th>im_data</th>\n",
       "      <th>product_id</th>\n",
       "      <th>Unnamed: 0</th>\n",
       "      <th>product_name</th>\n",
       "      <th>category</th>\n",
       "      <th>product_description</th>\n",
       "      <th>price</th>\n",
       "      <th>location</th>\n",
       "      <th>url</th>\n",
       "      <th>page_id</th>\n",
       "      <th>create_time</th>\n",
       "    </tr>\n",
       "  </thead>\n",
       "  <tbody>\n",
       "    <tr>\n",
       "      <th>0</th>\n",
       "      <td>[[[0, 0, 0], [0, 0, 0], [0, 0, 0], [0, 0, 0], ...</td>\n",
       "      <td>8ddabc6d-8b1f-49cb-b529-86284955df19</td>\n",
       "      <td>645</td>\n",
       "      <td>KING SIZE BEDDING | in Bedminster, Bristol | G...</td>\n",
       "      <td>Home &amp; Garden</td>\n",
       "      <td>Sets of king size bedding 1 mocha color duvet ...</td>\n",
       "      <td>£50.00</td>\n",
       "      <td>Bedminster, Bristol</td>\n",
       "      <td>https://www.gumtree.com/p/linen-bedding/king-s...</td>\n",
       "      <td>1426262205</td>\n",
       "      <td>2022-02-26</td>\n",
       "    </tr>\n",
       "    <tr>\n",
       "      <th>1</th>\n",
       "      <td>[[[0, 0, 0], [0, 0, 0], [0, 0, 0], [0, 0, 0], ...</td>\n",
       "      <td>fe3da19a-4cb7-4eae-b7ac-b36fa2f6f2e6</td>\n",
       "      <td>3307</td>\n",
       "      <td>Candy condenser tumble dryer new | in Aberdeen...</td>\n",
       "      <td>Appliances</td>\n",
       "      <td>White freestanding dryer Condenser Candy Cs C9...</td>\n",
       "      <td>£195.00</td>\n",
       "      <td>Aberdeen</td>\n",
       "      <td>https://www.gumtree.com/p/tumble-dryers/candy-...</td>\n",
       "      <td>1426338405</td>\n",
       "      <td>2022-02-27</td>\n",
       "    </tr>\n",
       "    <tr>\n",
       "      <th>2</th>\n",
       "      <td>[[[0, 0, 0], [0, 0, 0], [0, 0, 0], [0, 0, 0], ...</td>\n",
       "      <td>45880a72-dd3d-4ff7-b9bf-8813c71a29e0</td>\n",
       "      <td>6429</td>\n",
       "      <td>Office storage cabinet with lock and key - can...</td>\n",
       "      <td>Office Furniture &amp; Equipment</td>\n",
       "      <td>Overall in very good condition. Length 80 cm, ...</td>\n",
       "      <td>£50.00</td>\n",
       "      <td>Harborne, West Midlands</td>\n",
       "      <td>https://www.gumtree.com/p/storage-filing/offic...</td>\n",
       "      <td>1426704161</td>\n",
       "      <td>2022-02-27</td>\n",
       "    </tr>\n",
       "    <tr>\n",
       "      <th>3</th>\n",
       "      <td>[[[0, 0, 0], [0, 0, 0], [0, 0, 0], [0, 0, 0], ...</td>\n",
       "      <td>7d7d3fc3-ed8f-4857-b7dc-a01fdbd8fc2f</td>\n",
       "      <td>341</td>\n",
       "      <td>Brand new unused blind. Ordered wrong size | i...</td>\n",
       "      <td>Home &amp; Garden</td>\n",
       "      <td>White blind   Size 116 cm width  x 56 cams dep...</td>\n",
       "      <td>£50.00</td>\n",
       "      <td>Eastleigh, Hampshire</td>\n",
       "      <td>https://www.gumtree.com/p/curtains-blinds-wind...</td>\n",
       "      <td>1349403483</td>\n",
       "      <td>2022-02-26</td>\n",
       "    </tr>\n",
       "    <tr>\n",
       "      <th>4</th>\n",
       "      <td>[[[0, 0, 0], [0, 0, 0], [0, 0, 0], [0, 0, 0], ...</td>\n",
       "      <td>64d3b413-7c66-4b20-b781-85284bd6fdf4</td>\n",
       "      <td>597</td>\n",
       "      <td>Light up corner unit display cabinet | in Norw...</td>\n",
       "      <td>Home &amp; Garden</td>\n",
       "      <td>Plug-in corner unit display cabinet with three...</td>\n",
       "      <td>£10.00</td>\n",
       "      <td>Norwich, Norfolk</td>\n",
       "      <td>https://www.gumtree.com/p/wardrobes-shelving-s...</td>\n",
       "      <td>1426705271</td>\n",
       "      <td>2022-02-26</td>\n",
       "    </tr>\n",
       "  </tbody>\n",
       "</table>\n",
       "</div>"
      ],
      "text/plain": [
       "                                             im_data  \\\n",
       "0  [[[0, 0, 0], [0, 0, 0], [0, 0, 0], [0, 0, 0], ...   \n",
       "1  [[[0, 0, 0], [0, 0, 0], [0, 0, 0], [0, 0, 0], ...   \n",
       "2  [[[0, 0, 0], [0, 0, 0], [0, 0, 0], [0, 0, 0], ...   \n",
       "3  [[[0, 0, 0], [0, 0, 0], [0, 0, 0], [0, 0, 0], ...   \n",
       "4  [[[0, 0, 0], [0, 0, 0], [0, 0, 0], [0, 0, 0], ...   \n",
       "\n",
       "                             product_id  Unnamed: 0  \\\n",
       "0  8ddabc6d-8b1f-49cb-b529-86284955df19         645   \n",
       "1  fe3da19a-4cb7-4eae-b7ac-b36fa2f6f2e6        3307   \n",
       "2  45880a72-dd3d-4ff7-b9bf-8813c71a29e0        6429   \n",
       "3  7d7d3fc3-ed8f-4857-b7dc-a01fdbd8fc2f         341   \n",
       "4  64d3b413-7c66-4b20-b781-85284bd6fdf4         597   \n",
       "\n",
       "                                        product_name  \\\n",
       "0  KING SIZE BEDDING | in Bedminster, Bristol | G...   \n",
       "1  Candy condenser tumble dryer new | in Aberdeen...   \n",
       "2  Office storage cabinet with lock and key - can...   \n",
       "3  Brand new unused blind. Ordered wrong size | i...   \n",
       "4  Light up corner unit display cabinet | in Norw...   \n",
       "\n",
       "                        category  \\\n",
       "0                 Home & Garden    \n",
       "1                    Appliances    \n",
       "2  Office Furniture & Equipment    \n",
       "3                 Home & Garden    \n",
       "4                 Home & Garden    \n",
       "\n",
       "                                 product_description    price  \\\n",
       "0  Sets of king size bedding 1 mocha color duvet ...   £50.00   \n",
       "1  White freestanding dryer Condenser Candy Cs C9...  £195.00   \n",
       "2  Overall in very good condition. Length 80 cm, ...   £50.00   \n",
       "3  White blind   Size 116 cm width  x 56 cams dep...   £50.00   \n",
       "4  Plug-in corner unit display cabinet with three...   £10.00   \n",
       "\n",
       "                  location                                                url  \\\n",
       "0      Bedminster, Bristol  https://www.gumtree.com/p/linen-bedding/king-s...   \n",
       "1                 Aberdeen  https://www.gumtree.com/p/tumble-dryers/candy-...   \n",
       "2  Harborne, West Midlands  https://www.gumtree.com/p/storage-filing/offic...   \n",
       "3     Eastleigh, Hampshire  https://www.gumtree.com/p/curtains-blinds-wind...   \n",
       "4         Norwich, Norfolk  https://www.gumtree.com/p/wardrobes-shelving-s...   \n",
       "\n",
       "      page_id create_time  \n",
       "0  1426262205  2022-02-26  \n",
       "1  1426338405  2022-02-27  \n",
       "2  1426704161  2022-02-27  \n",
       "3  1349403483  2022-02-26  \n",
       "4  1426705271  2022-02-26  "
      ]
     },
     "execution_count": 30,
     "metadata": {},
     "output_type": "execute_result"
    }
   ],
   "source": [
    "df.head()"
   ]
  },
  {
   "cell_type": "code",
   "execution_count": 31,
   "metadata": {},
   "outputs": [
    {
     "data": {
      "text/plain": [
       "(12604, 11)"
      ]
     },
     "execution_count": 31,
     "metadata": {},
     "output_type": "execute_result"
    }
   ],
   "source": [
    "df.shape"
   ]
  },
  {
   "cell_type": "markdown",
   "metadata": {},
   "source": [
    "Drop unneeded columns, only keeping image array and category"
   ]
  },
  {
   "cell_type": "code",
   "execution_count": 32,
   "metadata": {},
   "outputs": [],
   "source": [
    "df = df.drop(['product_id', 'Unnamed: 0', 'product_name', 'product_description', 'price', 'location', 'url', 'page_id', 'create_time'], axis=1)"
   ]
  },
  {
   "cell_type": "markdown",
   "metadata": {},
   "source": [
    "Flattening arrays"
   ]
  },
  {
   "cell_type": "code",
   "execution_count": 33,
   "metadata": {},
   "outputs": [],
   "source": [
    "df['flat_array'] = df['im_data'].apply(lambda x : x.flatten())"
   ]
  },
  {
   "cell_type": "code",
   "execution_count": 34,
   "metadata": {},
   "outputs": [
    {
     "data": {
      "text/html": [
       "<div>\n",
       "<style scoped>\n",
       "    .dataframe tbody tr th:only-of-type {\n",
       "        vertical-align: middle;\n",
       "    }\n",
       "\n",
       "    .dataframe tbody tr th {\n",
       "        vertical-align: top;\n",
       "    }\n",
       "\n",
       "    .dataframe thead th {\n",
       "        text-align: right;\n",
       "    }\n",
       "</style>\n",
       "<table border=\"1\" class=\"dataframe\">\n",
       "  <thead>\n",
       "    <tr style=\"text-align: right;\">\n",
       "      <th></th>\n",
       "      <th>im_data</th>\n",
       "      <th>category</th>\n",
       "      <th>flat_array</th>\n",
       "    </tr>\n",
       "  </thead>\n",
       "  <tbody>\n",
       "    <tr>\n",
       "      <th>0</th>\n",
       "      <td>[[[0, 0, 0], [0, 0, 0], [0, 0, 0], [0, 0, 0], ...</td>\n",
       "      <td>Home &amp; Garden</td>\n",
       "      <td>[0, 0, 0, 0, 0, 0, 0, 0, 0, 0, 0, 0, 0, 0, 0, ...</td>\n",
       "    </tr>\n",
       "    <tr>\n",
       "      <th>1</th>\n",
       "      <td>[[[0, 0, 0], [0, 0, 0], [0, 0, 0], [0, 0, 0], ...</td>\n",
       "      <td>Appliances</td>\n",
       "      <td>[0, 0, 0, 0, 0, 0, 0, 0, 0, 0, 0, 0, 0, 0, 0, ...</td>\n",
       "    </tr>\n",
       "    <tr>\n",
       "      <th>2</th>\n",
       "      <td>[[[0, 0, 0], [0, 0, 0], [0, 0, 0], [0, 0, 0], ...</td>\n",
       "      <td>Office Furniture &amp; Equipment</td>\n",
       "      <td>[0, 0, 0, 0, 0, 0, 0, 0, 0, 0, 0, 0, 0, 0, 0, ...</td>\n",
       "    </tr>\n",
       "    <tr>\n",
       "      <th>3</th>\n",
       "      <td>[[[0, 0, 0], [0, 0, 0], [0, 0, 0], [0, 0, 0], ...</td>\n",
       "      <td>Home &amp; Garden</td>\n",
       "      <td>[0, 0, 0, 0, 0, 0, 0, 0, 0, 0, 0, 0, 0, 0, 0, ...</td>\n",
       "    </tr>\n",
       "    <tr>\n",
       "      <th>4</th>\n",
       "      <td>[[[0, 0, 0], [0, 0, 0], [0, 0, 0], [0, 0, 0], ...</td>\n",
       "      <td>Home &amp; Garden</td>\n",
       "      <td>[0, 0, 0, 0, 0, 0, 0, 0, 0, 0, 0, 0, 0, 0, 0, ...</td>\n",
       "    </tr>\n",
       "  </tbody>\n",
       "</table>\n",
       "</div>"
      ],
      "text/plain": [
       "                                             im_data  \\\n",
       "0  [[[0, 0, 0], [0, 0, 0], [0, 0, 0], [0, 0, 0], ...   \n",
       "1  [[[0, 0, 0], [0, 0, 0], [0, 0, 0], [0, 0, 0], ...   \n",
       "2  [[[0, 0, 0], [0, 0, 0], [0, 0, 0], [0, 0, 0], ...   \n",
       "3  [[[0, 0, 0], [0, 0, 0], [0, 0, 0], [0, 0, 0], ...   \n",
       "4  [[[0, 0, 0], [0, 0, 0], [0, 0, 0], [0, 0, 0], ...   \n",
       "\n",
       "                        category  \\\n",
       "0                 Home & Garden    \n",
       "1                    Appliances    \n",
       "2  Office Furniture & Equipment    \n",
       "3                 Home & Garden    \n",
       "4                 Home & Garden    \n",
       "\n",
       "                                          flat_array  \n",
       "0  [0, 0, 0, 0, 0, 0, 0, 0, 0, 0, 0, 0, 0, 0, 0, ...  \n",
       "1  [0, 0, 0, 0, 0, 0, 0, 0, 0, 0, 0, 0, 0, 0, 0, ...  \n",
       "2  [0, 0, 0, 0, 0, 0, 0, 0, 0, 0, 0, 0, 0, 0, 0, ...  \n",
       "3  [0, 0, 0, 0, 0, 0, 0, 0, 0, 0, 0, 0, 0, 0, 0, ...  \n",
       "4  [0, 0, 0, 0, 0, 0, 0, 0, 0, 0, 0, 0, 0, 0, 0, ...  "
      ]
     },
     "execution_count": 34,
     "metadata": {},
     "output_type": "execute_result"
    }
   ],
   "source": [
    "df.head()"
   ]
  },
  {
   "cell_type": "code",
   "execution_count": 35,
   "metadata": {},
   "outputs": [
    {
     "data": {
      "text/plain": [
       "(12604, 3)"
      ]
     },
     "execution_count": 35,
     "metadata": {},
     "output_type": "execute_result"
    }
   ],
   "source": [
    "df.shape"
   ]
  },
  {
   "cell_type": "code",
   "execution_count": 36,
   "metadata": {},
   "outputs": [
    {
     "data": {
      "text/plain": [
       "Index(['im_data', 'category', 'flat_array'], dtype='object')"
      ]
     },
     "execution_count": 36,
     "metadata": {},
     "output_type": "execute_result"
    }
   ],
   "source": [
    "df.columns"
   ]
  },
  {
   "cell_type": "markdown",
   "metadata": {},
   "source": [
    "Encode category labels"
   ]
  },
  {
   "cell_type": "code",
   "execution_count": 37,
   "metadata": {},
   "outputs": [],
   "source": [
    "from sklearn.preprocessing import LabelEncoder"
   ]
  },
  {
   "cell_type": "code",
   "execution_count": 38,
   "metadata": {},
   "outputs": [],
   "source": [
    "le = LabelEncoder()"
   ]
  },
  {
   "cell_type": "code",
   "execution_count": 39,
   "metadata": {},
   "outputs": [],
   "source": [
    "cat_le = le.fit_transform(df['category'])"
   ]
  },
  {
   "cell_type": "code",
   "execution_count": 40,
   "metadata": {},
   "outputs": [
    {
     "data": {
      "text/plain": [
       "{'Appliances ': 0,\n",
       " 'Baby & Kids Stuff ': 1,\n",
       " 'Clothes, Footwear & Accessories ': 2,\n",
       " 'Computers & Software ': 3,\n",
       " 'DIY Tools & Materials ': 4,\n",
       " 'Health & Beauty ': 5,\n",
       " 'Home & Garden ': 6,\n",
       " 'Music, Films, Books & Games ': 7,\n",
       " 'Office Furniture & Equipment ': 8,\n",
       " 'Other Goods ': 9,\n",
       " 'Phones, Mobile Phones & Telecoms ': 10,\n",
       " 'Sports, Leisure & Travel ': 11,\n",
       " 'Video Games & Consoles ': 12}"
      ]
     },
     "execution_count": 40,
     "metadata": {},
     "output_type": "execute_result"
    }
   ],
   "source": [
    "le_name_mapping = dict(zip(le.classes_, le.transform(le.classes_)))\n",
    "le_name_mapping"
   ]
  },
  {
   "cell_type": "code",
   "execution_count": 41,
   "metadata": {},
   "outputs": [],
   "source": [
    "df['cat_le'] = cat_le.tolist()"
   ]
  },
  {
   "cell_type": "code",
   "execution_count": 42,
   "metadata": {},
   "outputs": [
    {
     "data": {
      "text/html": [
       "<div>\n",
       "<style scoped>\n",
       "    .dataframe tbody tr th:only-of-type {\n",
       "        vertical-align: middle;\n",
       "    }\n",
       "\n",
       "    .dataframe tbody tr th {\n",
       "        vertical-align: top;\n",
       "    }\n",
       "\n",
       "    .dataframe thead th {\n",
       "        text-align: right;\n",
       "    }\n",
       "</style>\n",
       "<table border=\"1\" class=\"dataframe\">\n",
       "  <thead>\n",
       "    <tr style=\"text-align: right;\">\n",
       "      <th></th>\n",
       "      <th>im_data</th>\n",
       "      <th>category</th>\n",
       "      <th>flat_array</th>\n",
       "      <th>cat_le</th>\n",
       "    </tr>\n",
       "  </thead>\n",
       "  <tbody>\n",
       "    <tr>\n",
       "      <th>0</th>\n",
       "      <td>[[[0, 0, 0], [0, 0, 0], [0, 0, 0], [0, 0, 0], ...</td>\n",
       "      <td>Home &amp; Garden</td>\n",
       "      <td>[0, 0, 0, 0, 0, 0, 0, 0, 0, 0, 0, 0, 0, 0, 0, ...</td>\n",
       "      <td>6</td>\n",
       "    </tr>\n",
       "    <tr>\n",
       "      <th>1</th>\n",
       "      <td>[[[0, 0, 0], [0, 0, 0], [0, 0, 0], [0, 0, 0], ...</td>\n",
       "      <td>Appliances</td>\n",
       "      <td>[0, 0, 0, 0, 0, 0, 0, 0, 0, 0, 0, 0, 0, 0, 0, ...</td>\n",
       "      <td>0</td>\n",
       "    </tr>\n",
       "    <tr>\n",
       "      <th>2</th>\n",
       "      <td>[[[0, 0, 0], [0, 0, 0], [0, 0, 0], [0, 0, 0], ...</td>\n",
       "      <td>Office Furniture &amp; Equipment</td>\n",
       "      <td>[0, 0, 0, 0, 0, 0, 0, 0, 0, 0, 0, 0, 0, 0, 0, ...</td>\n",
       "      <td>8</td>\n",
       "    </tr>\n",
       "    <tr>\n",
       "      <th>3</th>\n",
       "      <td>[[[0, 0, 0], [0, 0, 0], [0, 0, 0], [0, 0, 0], ...</td>\n",
       "      <td>Home &amp; Garden</td>\n",
       "      <td>[0, 0, 0, 0, 0, 0, 0, 0, 0, 0, 0, 0, 0, 0, 0, ...</td>\n",
       "      <td>6</td>\n",
       "    </tr>\n",
       "    <tr>\n",
       "      <th>4</th>\n",
       "      <td>[[[0, 0, 0], [0, 0, 0], [0, 0, 0], [0, 0, 0], ...</td>\n",
       "      <td>Home &amp; Garden</td>\n",
       "      <td>[0, 0, 0, 0, 0, 0, 0, 0, 0, 0, 0, 0, 0, 0, 0, ...</td>\n",
       "      <td>6</td>\n",
       "    </tr>\n",
       "  </tbody>\n",
       "</table>\n",
       "</div>"
      ],
      "text/plain": [
       "                                             im_data  \\\n",
       "0  [[[0, 0, 0], [0, 0, 0], [0, 0, 0], [0, 0, 0], ...   \n",
       "1  [[[0, 0, 0], [0, 0, 0], [0, 0, 0], [0, 0, 0], ...   \n",
       "2  [[[0, 0, 0], [0, 0, 0], [0, 0, 0], [0, 0, 0], ...   \n",
       "3  [[[0, 0, 0], [0, 0, 0], [0, 0, 0], [0, 0, 0], ...   \n",
       "4  [[[0, 0, 0], [0, 0, 0], [0, 0, 0], [0, 0, 0], ...   \n",
       "\n",
       "                        category  \\\n",
       "0                 Home & Garden    \n",
       "1                    Appliances    \n",
       "2  Office Furniture & Equipment    \n",
       "3                 Home & Garden    \n",
       "4                 Home & Garden    \n",
       "\n",
       "                                          flat_array  cat_le  \n",
       "0  [0, 0, 0, 0, 0, 0, 0, 0, 0, 0, 0, 0, 0, 0, 0, ...       6  \n",
       "1  [0, 0, 0, 0, 0, 0, 0, 0, 0, 0, 0, 0, 0, 0, 0, ...       0  \n",
       "2  [0, 0, 0, 0, 0, 0, 0, 0, 0, 0, 0, 0, 0, 0, 0, ...       8  \n",
       "3  [0, 0, 0, 0, 0, 0, 0, 0, 0, 0, 0, 0, 0, 0, 0, ...       6  \n",
       "4  [0, 0, 0, 0, 0, 0, 0, 0, 0, 0, 0, 0, 0, 0, 0, ...       6  "
      ]
     },
     "execution_count": 42,
     "metadata": {},
     "output_type": "execute_result"
    }
   ],
   "source": [
    "df.head()"
   ]
  },
  {
   "cell_type": "markdown",
   "metadata": {},
   "source": [
    "Creating dataframe to use for torch dataset to use later:"
   ]
  },
  {
   "cell_type": "code",
   "execution_count": 43,
   "metadata": {},
   "outputs": [],
   "source": [
    "# products_df = df"
   ]
  },
  {
   "cell_type": "code",
   "execution_count": 44,
   "metadata": {},
   "outputs": [],
   "source": [
    "# products_df.drop(['category', 'flat_array'], axis=1, inplace=True)"
   ]
  },
  {
   "cell_type": "code",
   "execution_count": 45,
   "metadata": {},
   "outputs": [],
   "source": [
    "# products_df.columns"
   ]
  },
  {
   "cell_type": "code",
   "execution_count": 46,
   "metadata": {},
   "outputs": [],
   "source": [
    "# products_df.to_pickle(\"product_images_df.pkl\")"
   ]
  },
  {
   "cell_type": "markdown",
   "metadata": {},
   "source": [
    "Now just need flat array and label encoded category columns"
   ]
  },
  {
   "cell_type": "code",
   "execution_count": 47,
   "metadata": {},
   "outputs": [],
   "source": [
    "df.drop(['im_data', 'category'], axis=1, inplace=True)"
   ]
  },
  {
   "cell_type": "markdown",
   "metadata": {},
   "source": [
    "Using only about 10% of the dataset as not enough memory can be allocated on full dataset."
   ]
  },
  {
   "cell_type": "code",
   "execution_count": 48,
   "metadata": {},
   "outputs": [],
   "source": [
    "df = df.head(1260)"
   ]
  },
  {
   "cell_type": "markdown",
   "metadata": {},
   "source": [
    "Setting X and y variables"
   ]
  },
  {
   "cell_type": "code",
   "execution_count": 49,
   "metadata": {},
   "outputs": [],
   "source": [
    "X = df['flat_array'].values\n",
    "y = df['cat_le'].values"
   ]
  },
  {
   "cell_type": "markdown",
   "metadata": {},
   "source": [
    "Chosen KNeighbours Classifier for classification"
   ]
  },
  {
   "cell_type": "code",
   "execution_count": 50,
   "metadata": {},
   "outputs": [],
   "source": [
    "from sklearn.neighbors import KNeighborsClassifier\n",
    "from sklearn.model_selection import GridSearchCV"
   ]
  },
  {
   "cell_type": "code",
   "execution_count": 51,
   "metadata": {},
   "outputs": [],
   "source": [
    "from sklearn.model_selection import train_test_split"
   ]
  },
  {
   "cell_type": "code",
   "execution_count": 52,
   "metadata": {},
   "outputs": [],
   "source": [
    "X_train, X_test, y_train, y_test = train_test_split(X, y, test_size=0.3)"
   ]
  },
  {
   "cell_type": "code",
   "execution_count": 53,
   "metadata": {},
   "outputs": [],
   "source": [
    "parameters = {\"n_neighbors\": range(3, 10)}"
   ]
  },
  {
   "cell_type": "code",
   "execution_count": 54,
   "metadata": {},
   "outputs": [],
   "source": [
    "gridsearch = GridSearchCV(KNeighborsClassifier(), parameters)"
   ]
  },
  {
   "cell_type": "code",
   "execution_count": 55,
   "metadata": {},
   "outputs": [
    {
     "data": {
      "text/html": [
       "<style>#sk-container-id-1 {color: black;background-color: white;}#sk-container-id-1 pre{padding: 0;}#sk-container-id-1 div.sk-toggleable {background-color: white;}#sk-container-id-1 label.sk-toggleable__label {cursor: pointer;display: block;width: 100%;margin-bottom: 0;padding: 0.3em;box-sizing: border-box;text-align: center;}#sk-container-id-1 label.sk-toggleable__label-arrow:before {content: \"▸\";float: left;margin-right: 0.25em;color: #696969;}#sk-container-id-1 label.sk-toggleable__label-arrow:hover:before {color: black;}#sk-container-id-1 div.sk-estimator:hover label.sk-toggleable__label-arrow:before {color: black;}#sk-container-id-1 div.sk-toggleable__content {max-height: 0;max-width: 0;overflow: hidden;text-align: left;background-color: #f0f8ff;}#sk-container-id-1 div.sk-toggleable__content pre {margin: 0.2em;color: black;border-radius: 0.25em;background-color: #f0f8ff;}#sk-container-id-1 input.sk-toggleable__control:checked~div.sk-toggleable__content {max-height: 200px;max-width: 100%;overflow: auto;}#sk-container-id-1 input.sk-toggleable__control:checked~label.sk-toggleable__label-arrow:before {content: \"▾\";}#sk-container-id-1 div.sk-estimator input.sk-toggleable__control:checked~label.sk-toggleable__label {background-color: #d4ebff;}#sk-container-id-1 div.sk-label input.sk-toggleable__control:checked~label.sk-toggleable__label {background-color: #d4ebff;}#sk-container-id-1 input.sk-hidden--visually {border: 0;clip: rect(1px 1px 1px 1px);clip: rect(1px, 1px, 1px, 1px);height: 1px;margin: -1px;overflow: hidden;padding: 0;position: absolute;width: 1px;}#sk-container-id-1 div.sk-estimator {font-family: monospace;background-color: #f0f8ff;border: 1px dotted black;border-radius: 0.25em;box-sizing: border-box;margin-bottom: 0.5em;}#sk-container-id-1 div.sk-estimator:hover {background-color: #d4ebff;}#sk-container-id-1 div.sk-parallel-item::after {content: \"\";width: 100%;border-bottom: 1px solid gray;flex-grow: 1;}#sk-container-id-1 div.sk-label:hover label.sk-toggleable__label {background-color: #d4ebff;}#sk-container-id-1 div.sk-serial::before {content: \"\";position: absolute;border-left: 1px solid gray;box-sizing: border-box;top: 0;bottom: 0;left: 50%;z-index: 0;}#sk-container-id-1 div.sk-serial {display: flex;flex-direction: column;align-items: center;background-color: white;padding-right: 0.2em;padding-left: 0.2em;position: relative;}#sk-container-id-1 div.sk-item {position: relative;z-index: 1;}#sk-container-id-1 div.sk-parallel {display: flex;align-items: stretch;justify-content: center;background-color: white;position: relative;}#sk-container-id-1 div.sk-item::before, #sk-container-id-1 div.sk-parallel-item::before {content: \"\";position: absolute;border-left: 1px solid gray;box-sizing: border-box;top: 0;bottom: 0;left: 50%;z-index: -1;}#sk-container-id-1 div.sk-parallel-item {display: flex;flex-direction: column;z-index: 1;position: relative;background-color: white;}#sk-container-id-1 div.sk-parallel-item:first-child::after {align-self: flex-end;width: 50%;}#sk-container-id-1 div.sk-parallel-item:last-child::after {align-self: flex-start;width: 50%;}#sk-container-id-1 div.sk-parallel-item:only-child::after {width: 0;}#sk-container-id-1 div.sk-dashed-wrapped {border: 1px dashed gray;margin: 0 0.4em 0.5em 0.4em;box-sizing: border-box;padding-bottom: 0.4em;background-color: white;}#sk-container-id-1 div.sk-label label {font-family: monospace;font-weight: bold;display: inline-block;line-height: 1.2em;}#sk-container-id-1 div.sk-label-container {text-align: center;}#sk-container-id-1 div.sk-container {/* jupyter's `normalize.less` sets `[hidden] { display: none; }` but bootstrap.min.css set `[hidden] { display: none !important; }` so we also need the `!important` here to be able to override the default hidden behavior on the sphinx rendered scikit-learn.org. See: https://github.com/scikit-learn/scikit-learn/issues/21755 */display: inline-block !important;position: relative;}#sk-container-id-1 div.sk-text-repr-fallback {display: none;}</style><div id=\"sk-container-id-1\" class=\"sk-top-container\"><div class=\"sk-text-repr-fallback\"><pre>GridSearchCV(estimator=KNeighborsClassifier(),\n",
       "             param_grid={&#x27;n_neighbors&#x27;: range(3, 10)})</pre><b>In a Jupyter environment, please rerun this cell to show the HTML representation or trust the notebook. <br />On GitHub, the HTML representation is unable to render, please try loading this page with nbviewer.org.</b></div><div class=\"sk-container\" hidden><div class=\"sk-item sk-dashed-wrapped\"><div class=\"sk-label-container\"><div class=\"sk-label sk-toggleable\"><input class=\"sk-toggleable__control sk-hidden--visually\" id=\"sk-estimator-id-1\" type=\"checkbox\" ><label for=\"sk-estimator-id-1\" class=\"sk-toggleable__label sk-toggleable__label-arrow\">GridSearchCV</label><div class=\"sk-toggleable__content\"><pre>GridSearchCV(estimator=KNeighborsClassifier(),\n",
       "             param_grid={&#x27;n_neighbors&#x27;: range(3, 10)})</pre></div></div></div><div class=\"sk-parallel\"><div class=\"sk-parallel-item\"><div class=\"sk-item\"><div class=\"sk-label-container\"><div class=\"sk-label sk-toggleable\"><input class=\"sk-toggleable__control sk-hidden--visually\" id=\"sk-estimator-id-2\" type=\"checkbox\" ><label for=\"sk-estimator-id-2\" class=\"sk-toggleable__label sk-toggleable__label-arrow\">estimator: KNeighborsClassifier</label><div class=\"sk-toggleable__content\"><pre>KNeighborsClassifier()</pre></div></div></div><div class=\"sk-serial\"><div class=\"sk-item\"><div class=\"sk-estimator sk-toggleable\"><input class=\"sk-toggleable__control sk-hidden--visually\" id=\"sk-estimator-id-3\" type=\"checkbox\" ><label for=\"sk-estimator-id-3\" class=\"sk-toggleable__label sk-toggleable__label-arrow\">KNeighborsClassifier</label><div class=\"sk-toggleable__content\"><pre>KNeighborsClassifier()</pre></div></div></div></div></div></div></div></div></div></div>"
      ],
      "text/plain": [
       "GridSearchCV(estimator=KNeighborsClassifier(),\n",
       "             param_grid={'n_neighbors': range(3, 10)})"
      ]
     },
     "execution_count": 55,
     "metadata": {},
     "output_type": "execute_result"
    }
   ],
   "source": [
    "gridsearch.fit(X_train.tolist(), y_train)"
   ]
  },
  {
   "cell_type": "code",
   "execution_count": 56,
   "metadata": {},
   "outputs": [
    {
     "data": {
      "text/plain": [
       "0.12473677452491012"
      ]
     },
     "execution_count": 56,
     "metadata": {},
     "output_type": "execute_result"
    }
   ],
   "source": [
    "gridsearch.best_score_"
   ]
  },
  {
   "cell_type": "code",
   "execution_count": 57,
   "metadata": {},
   "outputs": [
    {
     "data": {
      "text/plain": [
       "{'n_neighbors': 8}"
      ]
     },
     "execution_count": 57,
     "metadata": {},
     "output_type": "execute_result"
    }
   ],
   "source": [
    "gridsearch.best_params_"
   ]
  },
  {
   "cell_type": "markdown",
   "metadata": {},
   "source": [
    "Will use n_neighbours = 7"
   ]
  },
  {
   "cell_type": "markdown",
   "metadata": {},
   "source": [
    "Scaling the data:"
   ]
  },
  {
   "cell_type": "code",
   "execution_count": 58,
   "metadata": {},
   "outputs": [],
   "source": [
    "from sklearn.preprocessing import StandardScaler"
   ]
  },
  {
   "cell_type": "code",
   "execution_count": 61,
   "metadata": {},
   "outputs": [],
   "source": [
    "sc = StandardScaler()\n",
    "X_train = sc.fit_transform(X_train.tolist())"
   ]
  },
  {
   "cell_type": "code",
   "execution_count": 62,
   "metadata": {},
   "outputs": [],
   "source": [
    "X_test = sc.transform(X_test.tolist())"
   ]
  },
  {
   "cell_type": "markdown",
   "metadata": {},
   "source": [
    "Create and train model:"
   ]
  },
  {
   "cell_type": "code",
   "execution_count": 63,
   "metadata": {},
   "outputs": [],
   "source": [
    "knn = KNeighborsClassifier(n_neighbors=7)"
   ]
  },
  {
   "cell_type": "code",
   "execution_count": 64,
   "metadata": {},
   "outputs": [
    {
     "data": {
      "text/html": [
       "<style>#sk-container-id-2 {color: black;background-color: white;}#sk-container-id-2 pre{padding: 0;}#sk-container-id-2 div.sk-toggleable {background-color: white;}#sk-container-id-2 label.sk-toggleable__label {cursor: pointer;display: block;width: 100%;margin-bottom: 0;padding: 0.3em;box-sizing: border-box;text-align: center;}#sk-container-id-2 label.sk-toggleable__label-arrow:before {content: \"▸\";float: left;margin-right: 0.25em;color: #696969;}#sk-container-id-2 label.sk-toggleable__label-arrow:hover:before {color: black;}#sk-container-id-2 div.sk-estimator:hover label.sk-toggleable__label-arrow:before {color: black;}#sk-container-id-2 div.sk-toggleable__content {max-height: 0;max-width: 0;overflow: hidden;text-align: left;background-color: #f0f8ff;}#sk-container-id-2 div.sk-toggleable__content pre {margin: 0.2em;color: black;border-radius: 0.25em;background-color: #f0f8ff;}#sk-container-id-2 input.sk-toggleable__control:checked~div.sk-toggleable__content {max-height: 200px;max-width: 100%;overflow: auto;}#sk-container-id-2 input.sk-toggleable__control:checked~label.sk-toggleable__label-arrow:before {content: \"▾\";}#sk-container-id-2 div.sk-estimator input.sk-toggleable__control:checked~label.sk-toggleable__label {background-color: #d4ebff;}#sk-container-id-2 div.sk-label input.sk-toggleable__control:checked~label.sk-toggleable__label {background-color: #d4ebff;}#sk-container-id-2 input.sk-hidden--visually {border: 0;clip: rect(1px 1px 1px 1px);clip: rect(1px, 1px, 1px, 1px);height: 1px;margin: -1px;overflow: hidden;padding: 0;position: absolute;width: 1px;}#sk-container-id-2 div.sk-estimator {font-family: monospace;background-color: #f0f8ff;border: 1px dotted black;border-radius: 0.25em;box-sizing: border-box;margin-bottom: 0.5em;}#sk-container-id-2 div.sk-estimator:hover {background-color: #d4ebff;}#sk-container-id-2 div.sk-parallel-item::after {content: \"\";width: 100%;border-bottom: 1px solid gray;flex-grow: 1;}#sk-container-id-2 div.sk-label:hover label.sk-toggleable__label {background-color: #d4ebff;}#sk-container-id-2 div.sk-serial::before {content: \"\";position: absolute;border-left: 1px solid gray;box-sizing: border-box;top: 0;bottom: 0;left: 50%;z-index: 0;}#sk-container-id-2 div.sk-serial {display: flex;flex-direction: column;align-items: center;background-color: white;padding-right: 0.2em;padding-left: 0.2em;position: relative;}#sk-container-id-2 div.sk-item {position: relative;z-index: 1;}#sk-container-id-2 div.sk-parallel {display: flex;align-items: stretch;justify-content: center;background-color: white;position: relative;}#sk-container-id-2 div.sk-item::before, #sk-container-id-2 div.sk-parallel-item::before {content: \"\";position: absolute;border-left: 1px solid gray;box-sizing: border-box;top: 0;bottom: 0;left: 50%;z-index: -1;}#sk-container-id-2 div.sk-parallel-item {display: flex;flex-direction: column;z-index: 1;position: relative;background-color: white;}#sk-container-id-2 div.sk-parallel-item:first-child::after {align-self: flex-end;width: 50%;}#sk-container-id-2 div.sk-parallel-item:last-child::after {align-self: flex-start;width: 50%;}#sk-container-id-2 div.sk-parallel-item:only-child::after {width: 0;}#sk-container-id-2 div.sk-dashed-wrapped {border: 1px dashed gray;margin: 0 0.4em 0.5em 0.4em;box-sizing: border-box;padding-bottom: 0.4em;background-color: white;}#sk-container-id-2 div.sk-label label {font-family: monospace;font-weight: bold;display: inline-block;line-height: 1.2em;}#sk-container-id-2 div.sk-label-container {text-align: center;}#sk-container-id-2 div.sk-container {/* jupyter's `normalize.less` sets `[hidden] { display: none; }` but bootstrap.min.css set `[hidden] { display: none !important; }` so we also need the `!important` here to be able to override the default hidden behavior on the sphinx rendered scikit-learn.org. See: https://github.com/scikit-learn/scikit-learn/issues/21755 */display: inline-block !important;position: relative;}#sk-container-id-2 div.sk-text-repr-fallback {display: none;}</style><div id=\"sk-container-id-2\" class=\"sk-top-container\"><div class=\"sk-text-repr-fallback\"><pre>KNeighborsClassifier(n_neighbors=7)</pre><b>In a Jupyter environment, please rerun this cell to show the HTML representation or trust the notebook. <br />On GitHub, the HTML representation is unable to render, please try loading this page with nbviewer.org.</b></div><div class=\"sk-container\" hidden><div class=\"sk-item\"><div class=\"sk-estimator sk-toggleable\"><input class=\"sk-toggleable__control sk-hidden--visually\" id=\"sk-estimator-id-4\" type=\"checkbox\" checked><label for=\"sk-estimator-id-4\" class=\"sk-toggleable__label sk-toggleable__label-arrow\">KNeighborsClassifier</label><div class=\"sk-toggleable__content\"><pre>KNeighborsClassifier(n_neighbors=7)</pre></div></div></div></div></div>"
      ],
      "text/plain": [
       "KNeighborsClassifier(n_neighbors=7)"
      ]
     },
     "execution_count": 64,
     "metadata": {},
     "output_type": "execute_result"
    }
   ],
   "source": [
    "knn.fit(X_train, y_train)"
   ]
  },
  {
   "cell_type": "markdown",
   "metadata": {},
   "source": [
    "Make a prediction and evaluate:"
   ]
  },
  {
   "cell_type": "code",
   "execution_count": 65,
   "metadata": {},
   "outputs": [],
   "source": [
    "y_pred = knn.predict(X_test)"
   ]
  },
  {
   "cell_type": "code",
   "execution_count": 66,
   "metadata": {},
   "outputs": [
    {
     "data": {
      "text/plain": [
       "8"
      ]
     },
     "execution_count": 66,
     "metadata": {},
     "output_type": "execute_result"
    }
   ],
   "source": [
    "y_test[12]"
   ]
  },
  {
   "cell_type": "code",
   "execution_count": 67,
   "metadata": {},
   "outputs": [
    {
     "data": {
      "text/plain": [
       "6"
      ]
     },
     "execution_count": 67,
     "metadata": {},
     "output_type": "execute_result"
    }
   ],
   "source": [
    "y_pred[12]"
   ]
  },
  {
   "cell_type": "markdown",
   "metadata": {},
   "source": [
    "Evaluation metrics:"
   ]
  },
  {
   "cell_type": "code",
   "execution_count": 68,
   "metadata": {},
   "outputs": [],
   "source": [
    "from sklearn.metrics import accuracy_score, confusion_matrix"
   ]
  },
  {
   "cell_type": "code",
   "execution_count": 69,
   "metadata": {},
   "outputs": [
    {
     "data": {
      "text/plain": [
       "0.12698412698412698"
      ]
     },
     "execution_count": 69,
     "metadata": {},
     "output_type": "execute_result"
    }
   ],
   "source": [
    "accuracy_score(y_test, y_pred)"
   ]
  },
  {
   "cell_type": "code",
   "execution_count": 70,
   "metadata": {},
   "outputs": [],
   "source": [
    "cm = (y_test, y_pred)"
   ]
  },
  {
   "cell_type": "code",
   "execution_count": 71,
   "metadata": {},
   "outputs": [],
   "source": [
    "import matplotlib.pyplot as plt\n",
    "import seaborn as sns"
   ]
  },
  {
   "cell_type": "code",
   "execution_count": 72,
   "metadata": {},
   "outputs": [],
   "source": [
    "def plot_confusion_matrix(y,y_predict):\n",
    "    \"this function plots the confusion matrix\"\n",
    "\n",
    "    cm = confusion_matrix(y, y_predict)\n",
    "    ax = plt.subplot()\n",
    "    sns.heatmap(cm, annot=True, ax = ax); #annot=True to annotate cells\n",
    "    ax.set_xlabel('Predicted labels')\n",
    "    ax.set_ylabel('True labels')\n",
    "    ax.set_title('Confusion Matrix'); \n",
    "    plt.show()"
   ]
  },
  {
   "cell_type": "code",
   "execution_count": 73,
   "metadata": {},
   "outputs": [
    {
     "ename": "ValueError",
     "evalue": "The number of FixedLocator locations (13), usually from a call to set_ticks, does not match the number of ticklabels (2).",
     "output_type": "error",
     "traceback": [
      "\u001b[1;31m---------------------------------------------------------------------------\u001b[0m",
      "\u001b[1;31mValueError\u001b[0m                                Traceback (most recent call last)",
      "\u001b[1;32mc:\\Users\\Abu Hasan\\aicore\\facebook-marketplace-ml\\KNN.ipynb Cell 95'\u001b[0m in \u001b[0;36m<cell line: 1>\u001b[1;34m()\u001b[0m\n\u001b[1;32m----> <a href='vscode-notebook-cell:/c%3A/Users/Abu%20Hasan/aicore/facebook-marketplace-ml/KNN.ipynb#ch0000094?line=0'>1</a>\u001b[0m plot_confusion_matrix(y_test, y_pred)\n",
      "\u001b[1;32mc:\\Users\\Abu Hasan\\aicore\\facebook-marketplace-ml\\KNN.ipynb Cell 94'\u001b[0m in \u001b[0;36mplot_confusion_matrix\u001b[1;34m(y, y_predict)\u001b[0m\n\u001b[0;32m      <a href='vscode-notebook-cell:/c%3A/Users/Abu%20Hasan/aicore/facebook-marketplace-ml/KNN.ipynb#ch0000093?line=7'>8</a>\u001b[0m ax\u001b[39m.\u001b[39mset_ylabel(\u001b[39m'\u001b[39m\u001b[39mTrue labels\u001b[39m\u001b[39m'\u001b[39m)\n\u001b[0;32m      <a href='vscode-notebook-cell:/c%3A/Users/Abu%20Hasan/aicore/facebook-marketplace-ml/KNN.ipynb#ch0000093?line=8'>9</a>\u001b[0m ax\u001b[39m.\u001b[39mset_title(\u001b[39m'\u001b[39m\u001b[39mConfusion Matrix\u001b[39m\u001b[39m'\u001b[39m); \n\u001b[1;32m---> <a href='vscode-notebook-cell:/c%3A/Users/Abu%20Hasan/aicore/facebook-marketplace-ml/KNN.ipynb#ch0000093?line=9'>10</a>\u001b[0m ax\u001b[39m.\u001b[39;49mxaxis\u001b[39m.\u001b[39;49mset_ticklabels([\u001b[39m'\u001b[39;49m\u001b[39mdid not land\u001b[39;49m\u001b[39m'\u001b[39;49m, \u001b[39m'\u001b[39;49m\u001b[39mland\u001b[39;49m\u001b[39m'\u001b[39;49m]); ax\u001b[39m.\u001b[39myaxis\u001b[39m.\u001b[39mset_ticklabels([\u001b[39m'\u001b[39m\u001b[39mdid not land\u001b[39m\u001b[39m'\u001b[39m, \u001b[39m'\u001b[39m\u001b[39mlanded\u001b[39m\u001b[39m'\u001b[39m])\n\u001b[0;32m     <a href='vscode-notebook-cell:/c%3A/Users/Abu%20Hasan/aicore/facebook-marketplace-ml/KNN.ipynb#ch0000093?line=10'>11</a>\u001b[0m plt\u001b[39m.\u001b[39mshow()\n",
      "File \u001b[1;32mc:\\Users\\Abu Hasan\\Miniconda\\envs\\fb-ml\\lib\\site-packages\\matplotlib\\axis.py:1720\u001b[0m, in \u001b[0;36mAxis.set_ticklabels\u001b[1;34m(self, ticklabels, minor, **kwargs)\u001b[0m\n\u001b[0;32m   1716\u001b[0m \u001b[39mif\u001b[39;00m \u001b[39misinstance\u001b[39m(locator, mticker\u001b[39m.\u001b[39mFixedLocator):\n\u001b[0;32m   1717\u001b[0m     \u001b[39m# Passing [] as a list of ticklabels is often used as a way to\u001b[39;00m\n\u001b[0;32m   1718\u001b[0m     \u001b[39m# remove all tick labels, so only error for > 0 ticklabels\u001b[39;00m\n\u001b[0;32m   1719\u001b[0m     \u001b[39mif\u001b[39;00m \u001b[39mlen\u001b[39m(locator\u001b[39m.\u001b[39mlocs) \u001b[39m!=\u001b[39m \u001b[39mlen\u001b[39m(ticklabels) \u001b[39mand\u001b[39;00m \u001b[39mlen\u001b[39m(ticklabels) \u001b[39m!=\u001b[39m \u001b[39m0\u001b[39m:\n\u001b[1;32m-> 1720\u001b[0m         \u001b[39mraise\u001b[39;00m \u001b[39mValueError\u001b[39;00m(\n\u001b[0;32m   1721\u001b[0m             \u001b[39m\"\u001b[39m\u001b[39mThe number of FixedLocator locations\u001b[39m\u001b[39m\"\u001b[39m\n\u001b[0;32m   1722\u001b[0m             \u001b[39mf\u001b[39m\u001b[39m\"\u001b[39m\u001b[39m (\u001b[39m\u001b[39m{\u001b[39;00m\u001b[39mlen\u001b[39m(locator\u001b[39m.\u001b[39mlocs)\u001b[39m}\u001b[39;00m\u001b[39m), usually from a call to\u001b[39m\u001b[39m\"\u001b[39m\n\u001b[0;32m   1723\u001b[0m             \u001b[39m\"\u001b[39m\u001b[39m set_ticks, does not match\u001b[39m\u001b[39m\"\u001b[39m\n\u001b[0;32m   1724\u001b[0m             \u001b[39mf\u001b[39m\u001b[39m\"\u001b[39m\u001b[39m the number of ticklabels (\u001b[39m\u001b[39m{\u001b[39;00m\u001b[39mlen\u001b[39m(ticklabels)\u001b[39m}\u001b[39;00m\u001b[39m).\u001b[39m\u001b[39m\"\u001b[39m)\n\u001b[0;32m   1725\u001b[0m     tickd \u001b[39m=\u001b[39m {loc: lab \u001b[39mfor\u001b[39;00m loc, lab \u001b[39min\u001b[39;00m \u001b[39mzip\u001b[39m(locator\u001b[39m.\u001b[39mlocs, ticklabels)}\n\u001b[0;32m   1726\u001b[0m     func \u001b[39m=\u001b[39m functools\u001b[39m.\u001b[39mpartial(\u001b[39mself\u001b[39m\u001b[39m.\u001b[39m_format_with_dict, tickd)\n",
      "\u001b[1;31mValueError\u001b[0m: The number of FixedLocator locations (13), usually from a call to set_ticks, does not match the number of ticklabels (2)."
     ]
    },
    {
     "data": {
      "image/png": "[encoded data removed]",
      "text/plain": [
       "<Figure size 432x288 with 2 Axes>"
      ]
     },
     "metadata": {
      "needs_background": "light"
     },
     "output_type": "display_data"
    }
   ],
   "source": [
    "plot_confusion_matrix(y_test, y_pred)"
   ]
  }
 ],
 "metadata": {
  "kernelspec": {
   "display_name": "Python 3.10.4 ('fb-ml')",
   "language": "python",
   "name": "python3"
  },
  "language_info": {
   "codemirror_mode": {
    "name": "ipython",
    "version": 3
   },
   "file_extension": ".py",
   "mimetype": "text/x-python",
   "name": "python",
   "nbconvert_exporter": "python",
   "pygments_lexer": "ipython3",
   "version": "3.10.4"
  },
  "orig_nbformat": 4,
  "vscode": {
   "interpreter": {
    "hash": "69963e5aa0d531844202b645261ed3a8585bef8def669cf4b049dba5e5a927e8"
   }
  }
 },
 "nbformat": 4,
 "nbformat_minor": 2
}
