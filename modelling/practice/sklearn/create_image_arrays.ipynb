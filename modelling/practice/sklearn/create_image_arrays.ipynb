{
 "cells": [
  {
   "cell_type": "markdown",
   "metadata": {},
   "source": [
    "Importing libraries"
   ]
  },
  {
   "cell_type": "code",
   "execution_count": 1,
   "metadata": {},
   "outputs": [],
   "source": [
    "import sys\n",
    "import os\n",
    "import numpy as np\n",
    "from skimage.io import imread\n",
    "import joblib"
   ]
  },
  {
   "cell_type": "code",
   "execution_count": 2,
   "metadata": {},
   "outputs": [],
   "source": [
    "path = 'resized_images'\n",
    "resized_dirs = os.listdir(f'{path}/')"
   ]
  },
  {
   "cell_type": "markdown",
   "metadata": {},
   "source": [
    "Creating a dictionary and appending the unique id of every image as well as the image data (numpy array representing the image file.) The image files have already been cleaned by resizing to a standard size."
   ]
  },
  {
   "cell_type": "code",
   "execution_count": 3,
   "metadata": {},
   "outputs": [
    {
     "data": {
      "text/plain": [
       "['ims_data']"
      ]
     },
     "execution_count": 3,
     "metadata": {},
     "output_type": "execute_result"
    }
   ],
   "source": [
    "# np.set_printoptions(threshold=sys.maxsize)\n",
    "\n",
    "# for file in resized_dirs[:1]:\n",
    "#     resized_img = imread(os.path.join(path, file))\n",
    "#     print(resized_img)\n",
    "\n",
    "ims = {\n",
    "    'id' : [],\n",
    "    'im_data' : []\n",
    "}\n",
    "\n",
    "for file in resized_dirs:\n",
    "    im_array = imread(os.path.join(path, file))\n",
    "    ims['id'].append(file.replace(\"resized_\", \"\").replace(\".jpg\", \"\"))\n",
    "    ims['im_data'].append(im_array)\n",
    "\n",
    "joblib.dump(ims, 'ims_data')"
   ]
  },
  {
   "cell_type": "markdown",
   "metadata": {},
   "source": [
    "Saved the data using joblib"
   ]
  }
 ],
 "metadata": {
  "kernelspec": {
   "display_name": "Python 3.10.4 ('fb-ml')",
   "language": "python",
   "name": "python3"
  },
  "language_info": {
   "codemirror_mode": {
    "name": "ipython",
    "version": 3
   },
   "file_extension": ".py",
   "mimetype": "text/x-python",
   "name": "python",
   "nbconvert_exporter": "python",
   "pygments_lexer": "ipython3",
   "version": "3.10.4 | packaged by conda-forge | (main, Mar 30 2022, 08:38:02) [MSC v.1916 64 bit (AMD64)]"
  },
  "orig_nbformat": 4,
  "vscode": {
   "interpreter": {
    "hash": "69963e5aa0d531844202b645261ed3a8585bef8def669cf4b049dba5e5a927e8"
   }
  }
 },
 "nbformat": 4,
 "nbformat_minor": 2
}
