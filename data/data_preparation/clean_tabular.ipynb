{
 "cells": [
  {
   "cell_type": "markdown",
   "metadata": {},
   "source": [
    "Install python libraries"
   ]
  },
  {
   "cell_type": "code",
   "execution_count": 1,
   "metadata": {},
   "outputs": [
    {
     "name": "stderr",
     "output_type": "stream",
     "text": [
      "[nltk_data] Downloading package stopwords to C:\\Users\\Abu\n",
      "[nltk_data]     Hasan\\AppData\\Roaming\\nltk_data...\n",
      "[nltk_data]   Package stopwords is already up-to-date!\n",
      "[nltk_data] Downloading package wordnet to C:\\Users\\Abu\n",
      "[nltk_data]     Hasan\\AppData\\Roaming\\nltk_data...\n",
      "[nltk_data]   Package wordnet is already up-to-date!\n",
      "[nltk_data] Downloading package omw-1.4 to C:\\Users\\Abu\n",
      "[nltk_data]     Hasan\\AppData\\Roaming\\nltk_data...\n",
      "[nltk_data]   Package omw-1.4 is already up-to-date!\n"
     ]
    }
   ],
   "source": [
    "import pandas as pd\n",
    "import re\n",
    "from spellchecker import SpellChecker\n",
    "import nltk\n",
    "nltk.download('stopwords')\n",
    "nltk.download('wordnet')\n",
    "nltk.download('omw-1.4')\n",
    "from nltk.corpus import stopwords\n",
    "from sklearn.feature_extraction.text import TfidfVectorizer"
   ]
  },
  {
   "cell_type": "markdown",
   "metadata": {},
   "source": [
    "Load dataset"
   ]
  },
  {
   "cell_type": "code",
   "execution_count": 2,
   "metadata": {},
   "outputs": [],
   "source": [
    "df = pd.read_csv('./data/Products.csv', lineterminator='\\n')"
   ]
  },
  {
   "cell_type": "markdown",
   "metadata": {},
   "source": [
    "Preview Data"
   ]
  },
  {
   "cell_type": "code",
   "execution_count": 3,
   "metadata": {},
   "outputs": [
    {
     "data": {
      "text/html": [
       "<div>\n",
       "<style scoped>\n",
       "    .dataframe tbody tr th:only-of-type {\n",
       "        vertical-align: middle;\n",
       "    }\n",
       "\n",
       "    .dataframe tbody tr th {\n",
       "        vertical-align: top;\n",
       "    }\n",
       "\n",
       "    .dataframe thead th {\n",
       "        text-align: right;\n",
       "    }\n",
       "</style>\n",
       "<table border=\"1\" class=\"dataframe\">\n",
       "  <thead>\n",
       "    <tr style=\"text-align: right;\">\n",
       "      <th></th>\n",
       "      <th>Unnamed: 0</th>\n",
       "      <th>id</th>\n",
       "      <th>product_name</th>\n",
       "      <th>category</th>\n",
       "      <th>product_description</th>\n",
       "      <th>price</th>\n",
       "      <th>location</th>\n",
       "      <th>url</th>\n",
       "      <th>page_id</th>\n",
       "      <th>create_time</th>\n",
       "    </tr>\n",
       "  </thead>\n",
       "  <tbody>\n",
       "    <tr>\n",
       "      <th>0</th>\n",
       "      <td>0</td>\n",
       "      <td>243809c0-9cfc-4486-ad12-3b7a16605ba9</td>\n",
       "      <td>Mirror wall art | in Wokingham, Berkshire | Gu...</td>\n",
       "      <td>Home &amp; Garden / Dining, Living Room Furniture ...</td>\n",
       "      <td>Mirror wall art. Posted by Nisha in Dining, Li...</td>\n",
       "      <td>£5.00</td>\n",
       "      <td>Wokingham, Berkshire</td>\n",
       "      <td>https://www.gumtree.com/p/mirrors-clocks-ornam...</td>\n",
       "      <td>1426704584</td>\n",
       "      <td>2022-02-26</td>\n",
       "    </tr>\n",
       "    <tr>\n",
       "      <th>1</th>\n",
       "      <td>1</td>\n",
       "      <td>1c58d3f9-8b93-47ea-9415-204fcc2a22e6</td>\n",
       "      <td>Stainless Steel Food Steamer | in Inverness, H...</td>\n",
       "      <td>Home &amp; Garden / Other Household Goods</td>\n",
       "      <td>Morphy Richard’s (model no 48755)Stainless ste...</td>\n",
       "      <td>£20.00</td>\n",
       "      <td>Inverness, Highland</td>\n",
       "      <td>https://www.gumtree.com/p/other-household-good...</td>\n",
       "      <td>1426704579</td>\n",
       "      <td>2022-02-26</td>\n",
       "    </tr>\n",
       "    <tr>\n",
       "      <th>2</th>\n",
       "      <td>2</td>\n",
       "      <td>860673f1-57f6-47ba-8d2f-13f9e05b8f9a</td>\n",
       "      <td>Sun loungers | in Skegness, Lincolnshire | Gum...</td>\n",
       "      <td>Home &amp; Garden / Garden &amp; Patio / Outdoor Setti...</td>\n",
       "      <td>I have 2 of these - collection only as I don’t...</td>\n",
       "      <td>£20.00</td>\n",
       "      <td>Skegness, Lincolnshire</td>\n",
       "      <td>https://www.gumtree.com/p/outdoor-settings-fur...</td>\n",
       "      <td>1426704576</td>\n",
       "      <td>2022-02-26</td>\n",
       "    </tr>\n",
       "    <tr>\n",
       "      <th>3</th>\n",
       "      <td>3</td>\n",
       "      <td>59948726-29be-4b35-ade5-bb2fd7331856</td>\n",
       "      <td>Coffee side table from Ammunition ammo box hai...</td>\n",
       "      <td>Home &amp; Garden / Dining, Living Room Furniture ...</td>\n",
       "      <td>Great reclaimed army ammunition box used as co...</td>\n",
       "      <td>£115.00</td>\n",
       "      <td>Radstock, Somerset</td>\n",
       "      <td>https://www.gumtree.com/p/other-dining-living-...</td>\n",
       "      <td>1426704575</td>\n",
       "      <td>2022-02-26</td>\n",
       "    </tr>\n",
       "    <tr>\n",
       "      <th>4</th>\n",
       "      <td>4</td>\n",
       "      <td>16dbc860-696e-4cda-93f6-4dd4926573fb</td>\n",
       "      <td>Modern Shannon Sofa for sale at low cost | in ...</td>\n",
       "      <td>Home &amp; Garden / Dining, Living Room Furniture ...</td>\n",
       "      <td>New Design Shannon Corner sofa  5 Seater Avail...</td>\n",
       "      <td>£450.00</td>\n",
       "      <td>Delph, Manchester</td>\n",
       "      <td>https://www.gumtree.com/p/sofas/modern-shannon...</td>\n",
       "      <td>1426704570</td>\n",
       "      <td>2022-02-26</td>\n",
       "    </tr>\n",
       "    <tr>\n",
       "      <th>5</th>\n",
       "      <td>5</td>\n",
       "      <td>5707be4f-49d9-4feb-b2c8-aa0868405c65</td>\n",
       "      <td>Spotlights | in Newent, Gloucestershire | Gumtree</td>\n",
       "      <td>Home &amp; Garden / Other Household Goods</td>\n",
       "      <td>New in box not needed Spotlights . Posted by s...</td>\n",
       "      <td>£9.00</td>\n",
       "      <td>Newent, Gloucestershire</td>\n",
       "      <td>https://www.gumtree.com/p/other-household-good...</td>\n",
       "      <td>1426704571</td>\n",
       "      <td>2022-02-26</td>\n",
       "    </tr>\n",
       "    <tr>\n",
       "      <th>6</th>\n",
       "      <td>6</td>\n",
       "      <td>d2244a7b-aef4-4495-aff7-0c55bf512d6e</td>\n",
       "      <td>💥💥White Wardrobe💥💥Brand new Wardrobe For sale ...</td>\n",
       "      <td>Home &amp; Garden / Beds &amp; Bedroom Furniture / War...</td>\n",
       "      <td>🌈🌈Call Dustin 0208-0049437\\r🌈🌈Same Day Or any...</td>\n",
       "      <td>£419.00</td>\n",
       "      <td>Huddersfield, West Yorkshire</td>\n",
       "      <td>https://www.gumtree.com/p/wardrobes-shelving-s...</td>\n",
       "      <td>1426704568</td>\n",
       "      <td>2022-02-26</td>\n",
       "    </tr>\n",
       "    <tr>\n",
       "      <th>7</th>\n",
       "      <td>7</td>\n",
       "      <td>485edc04-7bbc-430a-9430-f05a77f5a917</td>\n",
       "      <td>Letter cage | in Newent, Gloucestershire | Gum...</td>\n",
       "      <td>Home &amp; Garden / Other Household Goods</td>\n",
       "      <td>Selling for family member brand new too big fo...</td>\n",
       "      <td>£10.00</td>\n",
       "      <td>Newent, Gloucestershire</td>\n",
       "      <td>https://www.gumtree.com/p/other-household-good...</td>\n",
       "      <td>1426704516</td>\n",
       "      <td>2022-02-26</td>\n",
       "    </tr>\n",
       "    <tr>\n",
       "      <th>8</th>\n",
       "      <td>8</td>\n",
       "      <td>7e538445-c75e-4802-8dc5-a9083a802278</td>\n",
       "      <td>Double Pine Bed Frame | in Lytham St Annes, La...</td>\n",
       "      <td>Home &amp; Garden / Beds &amp; Bedroom Furniture / Dou...</td>\n",
       "      <td>Double Pine bed frame good condition. Reasonab...</td>\n",
       "      <td>£50.00</td>\n",
       "      <td>Lytham St Annes, Lancashire</td>\n",
       "      <td>https://www.gumtree.com/p/double-beds/double-p...</td>\n",
       "      <td>1426704510</td>\n",
       "      <td>2022-02-26</td>\n",
       "    </tr>\n",
       "    <tr>\n",
       "      <th>9</th>\n",
       "      <td>9</td>\n",
       "      <td>1a64843d-72f3-4141-946f-fa9b978fe755</td>\n",
       "      <td>Solid pine dining table and chairs | in West K...</td>\n",
       "      <td>Home &amp; Garden / Dining, Living Room Furniture ...</td>\n",
       "      <td>Distressed solid pine table and 4 chairs In ex...</td>\n",
       "      <td>£200.00</td>\n",
       "      <td>West Kilbride, North Ayrshire</td>\n",
       "      <td>https://www.gumtree.com/p/dining-tables-chairs...</td>\n",
       "      <td>1424517433</td>\n",
       "      <td>2022-02-26</td>\n",
       "    </tr>\n",
       "  </tbody>\n",
       "</table>\n",
       "</div>"
      ],
      "text/plain": [
       "   Unnamed: 0                                    id  \\\n",
       "0           0  243809c0-9cfc-4486-ad12-3b7a16605ba9   \n",
       "1           1  1c58d3f9-8b93-47ea-9415-204fcc2a22e6   \n",
       "2           2  860673f1-57f6-47ba-8d2f-13f9e05b8f9a   \n",
       "3           3  59948726-29be-4b35-ade5-bb2fd7331856   \n",
       "4           4  16dbc860-696e-4cda-93f6-4dd4926573fb   \n",
       "5           5  5707be4f-49d9-4feb-b2c8-aa0868405c65   \n",
       "6           6  d2244a7b-aef4-4495-aff7-0c55bf512d6e   \n",
       "7           7  485edc04-7bbc-430a-9430-f05a77f5a917   \n",
       "8           8  7e538445-c75e-4802-8dc5-a9083a802278   \n",
       "9           9  1a64843d-72f3-4141-946f-fa9b978fe755   \n",
       "\n",
       "                                        product_name  \\\n",
       "0  Mirror wall art | in Wokingham, Berkshire | Gu...   \n",
       "1  Stainless Steel Food Steamer | in Inverness, H...   \n",
       "2  Sun loungers | in Skegness, Lincolnshire | Gum...   \n",
       "3  Coffee side table from Ammunition ammo box hai...   \n",
       "4  Modern Shannon Sofa for sale at low cost | in ...   \n",
       "5  Spotlights | in Newent, Gloucestershire | Gumtree   \n",
       "6  💥💥White Wardrobe💥💥Brand new Wardrobe For sale ...   \n",
       "7  Letter cage | in Newent, Gloucestershire | Gum...   \n",
       "8  Double Pine Bed Frame | in Lytham St Annes, La...   \n",
       "9  Solid pine dining table and chairs | in West K...   \n",
       "\n",
       "                                            category  \\\n",
       "0  Home & Garden / Dining, Living Room Furniture ...   \n",
       "1              Home & Garden / Other Household Goods   \n",
       "2  Home & Garden / Garden & Patio / Outdoor Setti...   \n",
       "3  Home & Garden / Dining, Living Room Furniture ...   \n",
       "4  Home & Garden / Dining, Living Room Furniture ...   \n",
       "5              Home & Garden / Other Household Goods   \n",
       "6  Home & Garden / Beds & Bedroom Furniture / War...   \n",
       "7              Home & Garden / Other Household Goods   \n",
       "8  Home & Garden / Beds & Bedroom Furniture / Dou...   \n",
       "9  Home & Garden / Dining, Living Room Furniture ...   \n",
       "\n",
       "                                 product_description    price  \\\n",
       "0  Mirror wall art. Posted by Nisha in Dining, Li...    £5.00   \n",
       "1  Morphy Richard’s (model no 48755)Stainless ste...   £20.00   \n",
       "2  I have 2 of these - collection only as I don’t...   £20.00   \n",
       "3  Great reclaimed army ammunition box used as co...  £115.00   \n",
       "4  New Design Shannon Corner sofa  5 Seater Avail...  £450.00   \n",
       "5  New in box not needed Spotlights . Posted by s...    £9.00   \n",
       "6   🌈🌈Call Dustin 0208-0049437\\r🌈🌈Same Day Or any...  £419.00   \n",
       "7  Selling for family member brand new too big fo...   £10.00   \n",
       "8  Double Pine bed frame good condition. Reasonab...   £50.00   \n",
       "9  Distressed solid pine table and 4 chairs In ex...  £200.00   \n",
       "\n",
       "                        location  \\\n",
       "0           Wokingham, Berkshire   \n",
       "1            Inverness, Highland   \n",
       "2         Skegness, Lincolnshire   \n",
       "3             Radstock, Somerset   \n",
       "4              Delph, Manchester   \n",
       "5        Newent, Gloucestershire   \n",
       "6   Huddersfield, West Yorkshire   \n",
       "7        Newent, Gloucestershire   \n",
       "8    Lytham St Annes, Lancashire   \n",
       "9  West Kilbride, North Ayrshire   \n",
       "\n",
       "                                                 url     page_id create_time  \n",
       "0  https://www.gumtree.com/p/mirrors-clocks-ornam...  1426704584  2022-02-26  \n",
       "1  https://www.gumtree.com/p/other-household-good...  1426704579  2022-02-26  \n",
       "2  https://www.gumtree.com/p/outdoor-settings-fur...  1426704576  2022-02-26  \n",
       "3  https://www.gumtree.com/p/other-dining-living-...  1426704575  2022-02-26  \n",
       "4  https://www.gumtree.com/p/sofas/modern-shannon...  1426704570  2022-02-26  \n",
       "5  https://www.gumtree.com/p/other-household-good...  1426704571  2022-02-26  \n",
       "6  https://www.gumtree.com/p/wardrobes-shelving-s...  1426704568  2022-02-26  \n",
       "7  https://www.gumtree.com/p/other-household-good...  1426704516  2022-02-26  \n",
       "8  https://www.gumtree.com/p/double-beds/double-p...  1426704510  2022-02-26  \n",
       "9  https://www.gumtree.com/p/dining-tables-chairs...  1424517433  2022-02-26  "
      ]
     },
     "execution_count": 3,
     "metadata": {},
     "output_type": "execute_result"
    }
   ],
   "source": [
    "df.head(10)"
   ]
  },
  {
   "cell_type": "markdown",
   "metadata": {},
   "source": [
    "Check shape (rows and columns)"
   ]
  },
  {
   "cell_type": "code",
   "execution_count": 4,
   "metadata": {},
   "outputs": [
    {
     "data": {
      "text/plain": [
       "(7156, 10)"
      ]
     },
     "execution_count": 4,
     "metadata": {},
     "output_type": "execute_result"
    }
   ],
   "source": [
    "df.shape"
   ]
  },
  {
   "cell_type": "markdown",
   "metadata": {},
   "source": [
    "Check for nulls"
   ]
  },
  {
   "cell_type": "code",
   "execution_count": 5,
   "metadata": {},
   "outputs": [
    {
     "data": {
      "text/plain": [
       "Unnamed: 0             0\n",
       "id                     0\n",
       "product_name           0\n",
       "category               0\n",
       "product_description    0\n",
       "price                  0\n",
       "location               0\n",
       "url                    0\n",
       "page_id                0\n",
       "create_time            0\n",
       "dtype: int64"
      ]
     },
     "execution_count": 5,
     "metadata": {},
     "output_type": "execute_result"
    }
   ],
   "source": [
    "df.isna().sum()"
   ]
  },
  {
   "cell_type": "markdown",
   "metadata": {},
   "source": [
    "Returning no nulls in data."
   ]
  },
  {
   "cell_type": "markdown",
   "metadata": {},
   "source": [
    "Notice how most product_names are in the form of title | location | website origin (Gumtree)\n",
    "\n",
    "We want to preserve this across all rows but if we run:"
   ]
  },
  {
   "cell_type": "code",
   "execution_count": 6,
   "metadata": {},
   "outputs": [
    {
     "data": {
      "text/plain": [
       "0     7156\n",
       "1     7156\n",
       "2     7156\n",
       "3       24\n",
       "4       18\n",
       "5        5\n",
       "6        2\n",
       "7        2\n",
       "8        1\n",
       "9        1\n",
       "10       1\n",
       "11       1\n",
       "12       1\n",
       "13       1\n",
       "14       1\n",
       "dtype: int64"
      ]
     },
     "execution_count": 6,
     "metadata": {},
     "output_type": "execute_result"
    }
   ],
   "source": [
    "df['product_name'].str.split('|', expand=True).count()"
   ]
  },
  {
   "cell_type": "markdown",
   "metadata": {},
   "source": [
    "We get 14 columns, so that means some rows don't follow this convention.\n",
    "Lets see how many rows have 3 columns (from product_name split) that end in 'Gumtree':"
   ]
  },
  {
   "cell_type": "code",
   "execution_count": 7,
   "metadata": {},
   "outputs": [
    {
     "data": {
      "text/plain": [
       " Gumtree                                                       7132\n",
       " VERONA CORNER SOFA OR 3+2 SEATER SOFA SET AVAILABLE STOCK        3\n",
       " in Croydon, London                                               3\n",
       " 16GB Memory                                                      1\n",
       " in Bournemouth, Dorset                                           1\n",
       "                                                                  1\n",
       " 2021 Model                                                       1\n",
       " COUNTER TOP                                                      1\n",
       " Waterproof Liquid Eyeliner                                       1\n",
       " brand new                                                        1\n",
       " Excellent condition                                              1\n",
       " 2022 MODEL                                                       1\n",
       " Money Problems                                                   1\n",
       "                                                                  1\n",
       " Pedal                                                            1\n",
       " in Southwark, London                                             1\n",
       " Hydraulic Disc Brakes                                            1\n",
       " in Old Trafford, Manchester                                      1\n",
       " 7 Differents Colors In Stock ✅✅✅                                 1\n",
       " COLOUR SOFA IN 3+2 SEATER                                        1\n",
       " Digital Edition - 5PS1Y                                          1\n",
       "Name: 2, dtype: int64"
      ]
     },
     "execution_count": 7,
     "metadata": {},
     "output_type": "execute_result"
    }
   ],
   "source": [
    "df['product_name'].str.split('|', expand=True)[2].value_counts()"
   ]
  },
  {
   "cell_type": "markdown",
   "metadata": {},
   "source": [
    "Since >99% (7132/7156) rows follow the convention state above, we can drop the ones that don't."
   ]
  },
  {
   "cell_type": "markdown",
   "metadata": {},
   "source": [
    "Make new column for third column of product_name split by '|' :"
   ]
  },
  {
   "cell_type": "code",
   "execution_count": 8,
   "metadata": {},
   "outputs": [],
   "source": [
    "df['gumtree'] = df['product_name'].str.split('|', expand=True)[2]"
   ]
  },
  {
   "cell_type": "markdown",
   "metadata": {},
   "source": [
    "Drop rows where this column isn't Gumtree:"
   ]
  },
  {
   "cell_type": "code",
   "execution_count": 9,
   "metadata": {},
   "outputs": [],
   "source": [
    "df = df[df['gumtree'].str.contains('Gumtree')]"
   ]
  },
  {
   "cell_type": "markdown",
   "metadata": {},
   "source": [
    "Check unique values of this column, shpe and unique values of the split again to see if it worked:"
   ]
  },
  {
   "cell_type": "code",
   "execution_count": 10,
   "metadata": {},
   "outputs": [
    {
     "data": {
      "text/plain": [
       " Gumtree    7132\n",
       "Name: gumtree, dtype: int64"
      ]
     },
     "execution_count": 10,
     "metadata": {},
     "output_type": "execute_result"
    }
   ],
   "source": [
    "df['gumtree'].value_counts()"
   ]
  },
  {
   "cell_type": "code",
   "execution_count": 11,
   "metadata": {},
   "outputs": [
    {
     "data": {
      "text/plain": [
       "(7132, 11)"
      ]
     },
     "execution_count": 11,
     "metadata": {},
     "output_type": "execute_result"
    }
   ],
   "source": [
    "df.shape"
   ]
  },
  {
   "cell_type": "code",
   "execution_count": 12,
   "metadata": {},
   "outputs": [
    {
     "data": {
      "text/plain": [
       " Gumtree    7132\n",
       "Name: 2, dtype: int64"
      ]
     },
     "execution_count": 12,
     "metadata": {},
     "output_type": "execute_result"
    }
   ],
   "source": [
    "df['product_name'].str.split('|', expand=True)[2].value_counts()"
   ]
  },
  {
   "cell_type": "markdown",
   "metadata": {},
   "source": [
    "Looks good, drop the column made for this purpose."
   ]
  },
  {
   "cell_type": "code",
   "execution_count": 13,
   "metadata": {},
   "outputs": [],
   "source": [
    "df.drop(['gumtree'], axis=1, inplace=True)"
   ]
  },
  {
   "cell_type": "markdown",
   "metadata": {},
   "source": [
    "Now following the convention, we only need the title for product_name"
   ]
  },
  {
   "cell_type": "code",
   "execution_count": 14,
   "metadata": {},
   "outputs": [],
   "source": [
    "df['product_name'] = df['product_name'].str.split('|', expand=True)[0]"
   ]
  },
  {
   "cell_type": "code",
   "execution_count": 15,
   "metadata": {},
   "outputs": [
    {
     "data": {
      "text/html": [
       "<div>\n",
       "<style scoped>\n",
       "    .dataframe tbody tr th:only-of-type {\n",
       "        vertical-align: middle;\n",
       "    }\n",
       "\n",
       "    .dataframe tbody tr th {\n",
       "        vertical-align: top;\n",
       "    }\n",
       "\n",
       "    .dataframe thead th {\n",
       "        text-align: right;\n",
       "    }\n",
       "</style>\n",
       "<table border=\"1\" class=\"dataframe\">\n",
       "  <thead>\n",
       "    <tr style=\"text-align: right;\">\n",
       "      <th></th>\n",
       "      <th>Unnamed: 0</th>\n",
       "      <th>id</th>\n",
       "      <th>product_name</th>\n",
       "      <th>category</th>\n",
       "      <th>product_description</th>\n",
       "      <th>price</th>\n",
       "      <th>location</th>\n",
       "      <th>url</th>\n",
       "      <th>page_id</th>\n",
       "      <th>create_time</th>\n",
       "    </tr>\n",
       "  </thead>\n",
       "  <tbody>\n",
       "    <tr>\n",
       "      <th>0</th>\n",
       "      <td>0</td>\n",
       "      <td>243809c0-9cfc-4486-ad12-3b7a16605ba9</td>\n",
       "      <td>Mirror wall art</td>\n",
       "      <td>Home &amp; Garden / Dining, Living Room Furniture ...</td>\n",
       "      <td>Mirror wall art. Posted by Nisha in Dining, Li...</td>\n",
       "      <td>£5.00</td>\n",
       "      <td>Wokingham, Berkshire</td>\n",
       "      <td>https://www.gumtree.com/p/mirrors-clocks-ornam...</td>\n",
       "      <td>1426704584</td>\n",
       "      <td>2022-02-26</td>\n",
       "    </tr>\n",
       "    <tr>\n",
       "      <th>1</th>\n",
       "      <td>1</td>\n",
       "      <td>1c58d3f9-8b93-47ea-9415-204fcc2a22e6</td>\n",
       "      <td>Stainless Steel Food Steamer</td>\n",
       "      <td>Home &amp; Garden / Other Household Goods</td>\n",
       "      <td>Morphy Richard’s (model no 48755)Stainless ste...</td>\n",
       "      <td>£20.00</td>\n",
       "      <td>Inverness, Highland</td>\n",
       "      <td>https://www.gumtree.com/p/other-household-good...</td>\n",
       "      <td>1426704579</td>\n",
       "      <td>2022-02-26</td>\n",
       "    </tr>\n",
       "    <tr>\n",
       "      <th>2</th>\n",
       "      <td>2</td>\n",
       "      <td>860673f1-57f6-47ba-8d2f-13f9e05b8f9a</td>\n",
       "      <td>Sun loungers</td>\n",
       "      <td>Home &amp; Garden / Garden &amp; Patio / Outdoor Setti...</td>\n",
       "      <td>I have 2 of these - collection only as I don’t...</td>\n",
       "      <td>£20.00</td>\n",
       "      <td>Skegness, Lincolnshire</td>\n",
       "      <td>https://www.gumtree.com/p/outdoor-settings-fur...</td>\n",
       "      <td>1426704576</td>\n",
       "      <td>2022-02-26</td>\n",
       "    </tr>\n",
       "    <tr>\n",
       "      <th>3</th>\n",
       "      <td>3</td>\n",
       "      <td>59948726-29be-4b35-ade5-bb2fd7331856</td>\n",
       "      <td>Coffee side table from Ammunition ammo box hai...</td>\n",
       "      <td>Home &amp; Garden / Dining, Living Room Furniture ...</td>\n",
       "      <td>Great reclaimed army ammunition box used as co...</td>\n",
       "      <td>£115.00</td>\n",
       "      <td>Radstock, Somerset</td>\n",
       "      <td>https://www.gumtree.com/p/other-dining-living-...</td>\n",
       "      <td>1426704575</td>\n",
       "      <td>2022-02-26</td>\n",
       "    </tr>\n",
       "    <tr>\n",
       "      <th>4</th>\n",
       "      <td>4</td>\n",
       "      <td>16dbc860-696e-4cda-93f6-4dd4926573fb</td>\n",
       "      <td>Modern Shannon Sofa for sale at low cost</td>\n",
       "      <td>Home &amp; Garden / Dining, Living Room Furniture ...</td>\n",
       "      <td>New Design Shannon Corner sofa  5 Seater Avail...</td>\n",
       "      <td>£450.00</td>\n",
       "      <td>Delph, Manchester</td>\n",
       "      <td>https://www.gumtree.com/p/sofas/modern-shannon...</td>\n",
       "      <td>1426704570</td>\n",
       "      <td>2022-02-26</td>\n",
       "    </tr>\n",
       "    <tr>\n",
       "      <th>5</th>\n",
       "      <td>5</td>\n",
       "      <td>5707be4f-49d9-4feb-b2c8-aa0868405c65</td>\n",
       "      <td>Spotlights</td>\n",
       "      <td>Home &amp; Garden / Other Household Goods</td>\n",
       "      <td>New in box not needed Spotlights . Posted by s...</td>\n",
       "      <td>£9.00</td>\n",
       "      <td>Newent, Gloucestershire</td>\n",
       "      <td>https://www.gumtree.com/p/other-household-good...</td>\n",
       "      <td>1426704571</td>\n",
       "      <td>2022-02-26</td>\n",
       "    </tr>\n",
       "    <tr>\n",
       "      <th>6</th>\n",
       "      <td>6</td>\n",
       "      <td>d2244a7b-aef4-4495-aff7-0c55bf512d6e</td>\n",
       "      <td>💥💥White Wardrobe💥💥Brand new Wardrobe For sale ...</td>\n",
       "      <td>Home &amp; Garden / Beds &amp; Bedroom Furniture / War...</td>\n",
       "      <td>🌈🌈Call Dustin 0208-0049437\\r🌈🌈Same Day Or any...</td>\n",
       "      <td>£419.00</td>\n",
       "      <td>Huddersfield, West Yorkshire</td>\n",
       "      <td>https://www.gumtree.com/p/wardrobes-shelving-s...</td>\n",
       "      <td>1426704568</td>\n",
       "      <td>2022-02-26</td>\n",
       "    </tr>\n",
       "    <tr>\n",
       "      <th>7</th>\n",
       "      <td>7</td>\n",
       "      <td>485edc04-7bbc-430a-9430-f05a77f5a917</td>\n",
       "      <td>Letter cage</td>\n",
       "      <td>Home &amp; Garden / Other Household Goods</td>\n",
       "      <td>Selling for family member brand new too big fo...</td>\n",
       "      <td>£10.00</td>\n",
       "      <td>Newent, Gloucestershire</td>\n",
       "      <td>https://www.gumtree.com/p/other-household-good...</td>\n",
       "      <td>1426704516</td>\n",
       "      <td>2022-02-26</td>\n",
       "    </tr>\n",
       "    <tr>\n",
       "      <th>8</th>\n",
       "      <td>8</td>\n",
       "      <td>7e538445-c75e-4802-8dc5-a9083a802278</td>\n",
       "      <td>Double Pine Bed Frame</td>\n",
       "      <td>Home &amp; Garden / Beds &amp; Bedroom Furniture / Dou...</td>\n",
       "      <td>Double Pine bed frame good condition. Reasonab...</td>\n",
       "      <td>£50.00</td>\n",
       "      <td>Lytham St Annes, Lancashire</td>\n",
       "      <td>https://www.gumtree.com/p/double-beds/double-p...</td>\n",
       "      <td>1426704510</td>\n",
       "      <td>2022-02-26</td>\n",
       "    </tr>\n",
       "    <tr>\n",
       "      <th>9</th>\n",
       "      <td>9</td>\n",
       "      <td>1a64843d-72f3-4141-946f-fa9b978fe755</td>\n",
       "      <td>Solid pine dining table and chairs</td>\n",
       "      <td>Home &amp; Garden / Dining, Living Room Furniture ...</td>\n",
       "      <td>Distressed solid pine table and 4 chairs In ex...</td>\n",
       "      <td>£200.00</td>\n",
       "      <td>West Kilbride, North Ayrshire</td>\n",
       "      <td>https://www.gumtree.com/p/dining-tables-chairs...</td>\n",
       "      <td>1424517433</td>\n",
       "      <td>2022-02-26</td>\n",
       "    </tr>\n",
       "  </tbody>\n",
       "</table>\n",
       "</div>"
      ],
      "text/plain": [
       "   Unnamed: 0                                    id  \\\n",
       "0           0  243809c0-9cfc-4486-ad12-3b7a16605ba9   \n",
       "1           1  1c58d3f9-8b93-47ea-9415-204fcc2a22e6   \n",
       "2           2  860673f1-57f6-47ba-8d2f-13f9e05b8f9a   \n",
       "3           3  59948726-29be-4b35-ade5-bb2fd7331856   \n",
       "4           4  16dbc860-696e-4cda-93f6-4dd4926573fb   \n",
       "5           5  5707be4f-49d9-4feb-b2c8-aa0868405c65   \n",
       "6           6  d2244a7b-aef4-4495-aff7-0c55bf512d6e   \n",
       "7           7  485edc04-7bbc-430a-9430-f05a77f5a917   \n",
       "8           8  7e538445-c75e-4802-8dc5-a9083a802278   \n",
       "9           9  1a64843d-72f3-4141-946f-fa9b978fe755   \n",
       "\n",
       "                                        product_name  \\\n",
       "0                                   Mirror wall art    \n",
       "1                      Stainless Steel Food Steamer    \n",
       "2                                      Sun loungers    \n",
       "3  Coffee side table from Ammunition ammo box hai...   \n",
       "4          Modern Shannon Sofa for sale at low cost    \n",
       "5                                        Spotlights    \n",
       "6  💥💥White Wardrobe💥💥Brand new Wardrobe For sale ...   \n",
       "7                                       Letter cage    \n",
       "8                             Double Pine Bed Frame    \n",
       "9                Solid pine dining table and chairs    \n",
       "\n",
       "                                            category  \\\n",
       "0  Home & Garden / Dining, Living Room Furniture ...   \n",
       "1              Home & Garden / Other Household Goods   \n",
       "2  Home & Garden / Garden & Patio / Outdoor Setti...   \n",
       "3  Home & Garden / Dining, Living Room Furniture ...   \n",
       "4  Home & Garden / Dining, Living Room Furniture ...   \n",
       "5              Home & Garden / Other Household Goods   \n",
       "6  Home & Garden / Beds & Bedroom Furniture / War...   \n",
       "7              Home & Garden / Other Household Goods   \n",
       "8  Home & Garden / Beds & Bedroom Furniture / Dou...   \n",
       "9  Home & Garden / Dining, Living Room Furniture ...   \n",
       "\n",
       "                                 product_description    price  \\\n",
       "0  Mirror wall art. Posted by Nisha in Dining, Li...    £5.00   \n",
       "1  Morphy Richard’s (model no 48755)Stainless ste...   £20.00   \n",
       "2  I have 2 of these - collection only as I don’t...   £20.00   \n",
       "3  Great reclaimed army ammunition box used as co...  £115.00   \n",
       "4  New Design Shannon Corner sofa  5 Seater Avail...  £450.00   \n",
       "5  New in box not needed Spotlights . Posted by s...    £9.00   \n",
       "6   🌈🌈Call Dustin 0208-0049437\\r🌈🌈Same Day Or any...  £419.00   \n",
       "7  Selling for family member brand new too big fo...   £10.00   \n",
       "8  Double Pine bed frame good condition. Reasonab...   £50.00   \n",
       "9  Distressed solid pine table and 4 chairs In ex...  £200.00   \n",
       "\n",
       "                        location  \\\n",
       "0           Wokingham, Berkshire   \n",
       "1            Inverness, Highland   \n",
       "2         Skegness, Lincolnshire   \n",
       "3             Radstock, Somerset   \n",
       "4              Delph, Manchester   \n",
       "5        Newent, Gloucestershire   \n",
       "6   Huddersfield, West Yorkshire   \n",
       "7        Newent, Gloucestershire   \n",
       "8    Lytham St Annes, Lancashire   \n",
       "9  West Kilbride, North Ayrshire   \n",
       "\n",
       "                                                 url     page_id create_time  \n",
       "0  https://www.gumtree.com/p/mirrors-clocks-ornam...  1426704584  2022-02-26  \n",
       "1  https://www.gumtree.com/p/other-household-good...  1426704579  2022-02-26  \n",
       "2  https://www.gumtree.com/p/outdoor-settings-fur...  1426704576  2022-02-26  \n",
       "3  https://www.gumtree.com/p/other-dining-living-...  1426704575  2022-02-26  \n",
       "4  https://www.gumtree.com/p/sofas/modern-shannon...  1426704570  2022-02-26  \n",
       "5  https://www.gumtree.com/p/other-household-good...  1426704571  2022-02-26  \n",
       "6  https://www.gumtree.com/p/wardrobes-shelving-s...  1426704568  2022-02-26  \n",
       "7  https://www.gumtree.com/p/other-household-good...  1426704516  2022-02-26  \n",
       "8  https://www.gumtree.com/p/double-beds/double-p...  1426704510  2022-02-26  \n",
       "9  https://www.gumtree.com/p/dining-tables-chairs...  1424517433  2022-02-26  "
      ]
     },
     "execution_count": 15,
     "metadata": {},
     "output_type": "execute_result"
    }
   ],
   "source": [
    "df.head(10)"
   ]
  },
  {
   "cell_type": "markdown",
   "metadata": {},
   "source": [
    "We also need to strip price of the pound sign"
   ]
  },
  {
   "cell_type": "code",
   "execution_count": 16,
   "metadata": {},
   "outputs": [],
   "source": [
    "df['price'] = df['price'].apply(lambda x: x.replace('£', ''))"
   ]
  },
  {
   "cell_type": "markdown",
   "metadata": {},
   "source": [
    "product_name, product_description and location need to go through text data cleaning."
   ]
  },
  {
   "cell_type": "markdown",
   "metadata": {},
   "source": [
    "The steps we will use:\n",
    "1. Remove unwanted characters\n",
    "2. Decapitalisation\n",
    "3. Remove stop words\n",
    "4. Lemmatising/Stemming\n",
    "5. Vectorisation"
   ]
  },
  {
   "cell_type": "code",
   "execution_count": 17,
   "metadata": {},
   "outputs": [],
   "source": [
    "def remove_unwanted_chars(df, columns):\n",
    "    for column_name in columns:\n",
    "        df['temporary_column'] = df[column_name].apply(lambda x: x.split())\n",
    "        df['temporary_column'] = df['temporary_column'].apply(lambda x: [re.sub(r'[^0-9A-Za-z.+ ]', ' ', y) for y in x])\n",
    "        df['temporary_column'] = df['temporary_column'].apply(lambda x: [y.replace('.', '') if y.find('.') == len(y)-1 else y for y in x])\n",
    "        df[column_name] = df['temporary_column'].apply(lambda x: ' '.join(x))\n",
    "        df.drop(['temporary_column'], axis=1, inplace=True)\n",
    "    return df"
   ]
  },
  {
   "cell_type": "code",
   "execution_count": 18,
   "metadata": {},
   "outputs": [],
   "source": [
    "df = remove_unwanted_chars(df, ['product_name', 'product_description', 'location'])"
   ]
  },
  {
   "cell_type": "code",
   "execution_count": 19,
   "metadata": {},
   "outputs": [],
   "source": [
    "def decapitalise(df, columns):\n",
    "    for column_name in columns:\n",
    "        df[column_name] = df[column_name].apply(lambda x: x.lower())\n",
    "    return df"
   ]
  },
  {
   "cell_type": "code",
   "execution_count": 20,
   "metadata": {},
   "outputs": [],
   "source": [
    "df = decapitalise(df, ['product_name', 'product_description', 'location'])"
   ]
  },
  {
   "cell_type": "code",
   "execution_count": 21,
   "metadata": {},
   "outputs": [],
   "source": [
    "def remove_stop_words(df, columns):\n",
    "    stops = set(stopwords.words(\"english\"))\n",
    "    for column_name in columns:\n",
    "        df['temporary_column'] = df[column_name].apply(lambda x: x.split())\n",
    "        df['temporary_column'] = df['temporary_column'].apply(lambda x: [y for y in x if y not in stops])\n",
    "        df[column_name] = df['temporary_column'].apply(lambda x: ' '.join(x))\n",
    "        df.drop(['temporary_column'], axis=1, inplace=True)\n",
    "    return df"
   ]
  },
  {
   "cell_type": "code",
   "execution_count": 22,
   "metadata": {},
   "outputs": [],
   "source": [
    "df = remove_stop_words(df, ['product_name', 'product_description', 'location'])"
   ]
  },
  {
   "cell_type": "code",
   "execution_count": 23,
   "metadata": {},
   "outputs": [],
   "source": [
    "def lemmatise_text(df, columns):\n",
    "    lemmatizer = nltk.stem.WordNetLemmatizer()\n",
    "    for column_name in columns:\n",
    "        df['temporary_column'] = df[column_name].apply(lambda x: x.split())\n",
    "        df['temporary_column'] = df['temporary_column'].apply(lambda x: [lemmatizer.lemmatize(y) for y in x])\n",
    "        df[column_name] = df['temporary_column'].apply(lambda x: ' '.join(x))\n",
    "        df.drop(['temporary_column'], axis=1, inplace=True)\n",
    "    return df\n"
   ]
  },
  {
   "cell_type": "code",
   "execution_count": 24,
   "metadata": {},
   "outputs": [],
   "source": [
    "df = lemmatise_text(df, ['product_name', 'product_description', 'location'])"
   ]
  },
  {
   "cell_type": "markdown",
   "metadata": {},
   "source": [
    "The text data cleaning is almost done. Just one more step of vectorising the text data."
   ]
  },
  {
   "cell_type": "code",
   "execution_count": 25,
   "metadata": {},
   "outputs": [],
   "source": [
    "def vectorise_columns(df, column):\n",
    "    v = TfidfVectorizer()\n",
    "    x = v.fit_transform(df[column])\n",
    "    temp_df = pd.DataFrame(x.toarray(), columns=v.get_feature_names_out())\n",
    "    return temp_df"
   ]
  },
  {
   "cell_type": "code",
   "execution_count": 26,
   "metadata": {},
   "outputs": [],
   "source": [
    "df_v_pn = vectorise_columns(df, 'product_name')\n",
    "df_v_pd = vectorise_columns(df, 'product_description')\n",
    "df_v_l = vectorise_columns(df, 'location')\n",
    "df_vectorised = pd.concat([df.reset_index(drop=True), df_v_pn.reset_index(drop=True), df_v_pd.reset_index(drop=True), df_v_l.reset_index(drop=True)], axis=1)"
   ]
  },
  {
   "cell_type": "markdown",
   "metadata": {},
   "source": [
    "Check:"
   ]
  },
  {
   "cell_type": "code",
   "execution_count": 27,
   "metadata": {},
   "outputs": [],
   "source": [
    "df_check = df_vectorised.head(1)"
   ]
  },
  {
   "cell_type": "code",
   "execution_count": 28,
   "metadata": {},
   "outputs": [],
   "source": [
    "non_zero_df = df_check.loc[:, (df_check != 0).any(axis=0)]"
   ]
  },
  {
   "cell_type": "code",
   "execution_count": 29,
   "metadata": {},
   "outputs": [
    {
     "data": {
      "text/html": [
       "<div>\n",
       "<style scoped>\n",
       "    .dataframe tbody tr th:only-of-type {\n",
       "        vertical-align: middle;\n",
       "    }\n",
       "\n",
       "    .dataframe tbody tr th {\n",
       "        vertical-align: top;\n",
       "    }\n",
       "\n",
       "    .dataframe thead th {\n",
       "        text-align: right;\n",
       "    }\n",
       "</style>\n",
       "<table border=\"1\" class=\"dataframe\">\n",
       "  <thead>\n",
       "    <tr style=\"text-align: right;\">\n",
       "      <th></th>\n",
       "      <th>id</th>\n",
       "      <th>product_name</th>\n",
       "      <th>category</th>\n",
       "      <th>product_description</th>\n",
       "      <th>price</th>\n",
       "      <th>location</th>\n",
       "      <th>url</th>\n",
       "      <th>page_id</th>\n",
       "      <th>create_time</th>\n",
       "      <th>art</th>\n",
       "      <th>...</th>\n",
       "      <th>living</th>\n",
       "      <th>mirror</th>\n",
       "      <th>nisha</th>\n",
       "      <th>ornament</th>\n",
       "      <th>posted</th>\n",
       "      <th>room</th>\n",
       "      <th>wall</th>\n",
       "      <th>wokingham</th>\n",
       "      <th>berkshire</th>\n",
       "      <th>wokingham</th>\n",
       "    </tr>\n",
       "  </thead>\n",
       "  <tbody>\n",
       "    <tr>\n",
       "      <th>0</th>\n",
       "      <td>243809c0-9cfc-4486-ad12-3b7a16605ba9</td>\n",
       "      <td>mirror wall art</td>\n",
       "      <td>Home &amp; Garden / Dining, Living Room Furniture ...</td>\n",
       "      <td>mirror wall art posted nisha dining living roo...</td>\n",
       "      <td>5.00</td>\n",
       "      <td>wokingham berkshire</td>\n",
       "      <td>https://www.gumtree.com/p/mirrors-clocks-ornam...</td>\n",
       "      <td>1426704584</td>\n",
       "      <td>2022-02-26</td>\n",
       "      <td>0.627376</td>\n",
       "      <td>...</td>\n",
       "      <td>0.216113</td>\n",
       "      <td>0.42074</td>\n",
       "      <td>0.302557</td>\n",
       "      <td>0.248307</td>\n",
       "      <td>0.126775</td>\n",
       "      <td>0.181878</td>\n",
       "      <td>0.189711</td>\n",
       "      <td>0.295882</td>\n",
       "      <td>0.583263</td>\n",
       "      <td>0.812284</td>\n",
       "    </tr>\n",
       "  </tbody>\n",
       "</table>\n",
       "<p>1 rows × 30 columns</p>\n",
       "</div>"
      ],
      "text/plain": [
       "                                     id     product_name  \\\n",
       "0  243809c0-9cfc-4486-ad12-3b7a16605ba9  mirror wall art   \n",
       "\n",
       "                                            category  \\\n",
       "0  Home & Garden / Dining, Living Room Furniture ...   \n",
       "\n",
       "                                 product_description price  \\\n",
       "0  mirror wall art posted nisha dining living roo...  5.00   \n",
       "\n",
       "              location                                                url  \\\n",
       "0  wokingham berkshire  https://www.gumtree.com/p/mirrors-clocks-ornam...   \n",
       "\n",
       "      page_id create_time       art  ...    living   mirror     nisha  \\\n",
       "0  1426704584  2022-02-26  0.627376  ...  0.216113  0.42074  0.302557   \n",
       "\n",
       "   ornament    posted      room      wall  wokingham  berkshire  wokingham  \n",
       "0  0.248307  0.126775  0.181878  0.189711   0.295882   0.583263   0.812284  \n",
       "\n",
       "[1 rows x 30 columns]"
      ]
     },
     "execution_count": 29,
     "metadata": {},
     "output_type": "execute_result"
    }
   ],
   "source": [
    "non_zero_df.head()"
   ]
  },
  {
   "cell_type": "code",
   "execution_count": 30,
   "metadata": {},
   "outputs": [
    {
     "data": {
      "text/html": [
       "<div>\n",
       "<style scoped>\n",
       "    .dataframe tbody tr th:only-of-type {\n",
       "        vertical-align: middle;\n",
       "    }\n",
       "\n",
       "    .dataframe tbody tr th {\n",
       "        vertical-align: top;\n",
       "    }\n",
       "\n",
       "    .dataframe thead th {\n",
       "        text-align: right;\n",
       "    }\n",
       "</style>\n",
       "<table border=\"1\" class=\"dataframe\">\n",
       "  <thead>\n",
       "    <tr style=\"text-align: right;\">\n",
       "      <th></th>\n",
       "      <th>Unnamed: 0</th>\n",
       "      <th>id</th>\n",
       "      <th>product_name</th>\n",
       "      <th>category</th>\n",
       "      <th>product_description</th>\n",
       "      <th>price</th>\n",
       "      <th>location</th>\n",
       "      <th>url</th>\n",
       "      <th>page_id</th>\n",
       "      <th>create_time</th>\n",
       "    </tr>\n",
       "  </thead>\n",
       "  <tbody>\n",
       "    <tr>\n",
       "      <th>7151</th>\n",
       "      <td>7151</td>\n",
       "      <td>c4148656-78a9-4f3e-b393-134fdc5ef900</td>\n",
       "      <td>sony playstation vr move bundle</td>\n",
       "      <td>Video Games &amp; Consoles / Consoles / PS4 (Sony ...</td>\n",
       "      <td>sony playstation vr move bundle353cash collect...</td>\n",
       "      <td>260.00</td>\n",
       "      <td>acocks green west midland</td>\n",
       "      <td>https://www.gumtree.com/p/ps4/sony-playstation...</td>\n",
       "      <td>1422159237</td>\n",
       "      <td>2022-02-28</td>\n",
       "    </tr>\n",
       "    <tr>\n",
       "      <th>7152</th>\n",
       "      <td>7152</td>\n",
       "      <td>564e3411-768d-4250-a624-b119d696f103</td>\n",
       "      <td>playstation vr v2 bundle</td>\n",
       "      <td>Video Games &amp; Consoles / Consoles / PS4 (Sony ...</td>\n",
       "      <td>playstation vr v2 bundle355cash collection del...</td>\n",
       "      <td>235.00</td>\n",
       "      <td>acocks green west midland</td>\n",
       "      <td>https://www.gumtree.com/p/ps4/playstation-vr-v...</td>\n",
       "      <td>1422159464</td>\n",
       "      <td>2022-02-28</td>\n",
       "    </tr>\n",
       "    <tr>\n",
       "      <th>7153</th>\n",
       "      <td>7153</td>\n",
       "      <td>2b0a652b-46a2-4297-b619-5efeeb222787</td>\n",
       "      <td>oculus quest 2 256gb</td>\n",
       "      <td>Video Games &amp; Consoles / Other Video Games &amp; C...</td>\n",
       "      <td>pick 250comes two pistol stock gun game protec...</td>\n",
       "      <td>250.00</td>\n",
       "      <td>montrose angus</td>\n",
       "      <td>https://www.gumtree.com/p/other-video-games/oc...</td>\n",
       "      <td>1426668818</td>\n",
       "      <td>2022-02-28</td>\n",
       "    </tr>\n",
       "    <tr>\n",
       "      <th>7154</th>\n",
       "      <td>7154</td>\n",
       "      <td>719fd40a-870e-4144-b324-55dff2e66fb4</td>\n",
       "      <td>logitech driving force shifter</td>\n",
       "      <td>Video Games &amp; Consoles / Video Game Accessorie...</td>\n",
       "      <td>bought christmas curry retailing 43.99 used al...</td>\n",
       "      <td>30.00</td>\n",
       "      <td>carrickfergus county antrim</td>\n",
       "      <td>https://www.gumtree.com/p/other-video-game-acc...</td>\n",
       "      <td>1426699715</td>\n",
       "      <td>2022-02-28</td>\n",
       "    </tr>\n",
       "    <tr>\n",
       "      <th>7155</th>\n",
       "      <td>7155</td>\n",
       "      <td>86d1806b-5575-4a7e-9160-f24f12be6c95</td>\n",
       "      <td>20 game nintendo switch bundle</td>\n",
       "      <td>Video Games &amp; Consoles / Games</td>\n",
       "      <td>nintendo switch console used 2 3 time almost 3...</td>\n",
       "      <td>450.00</td>\n",
       "      <td>poole dorset</td>\n",
       "      <td>https://www.gumtree.com/p/video-games/20-games...</td>\n",
       "      <td>1426699649</td>\n",
       "      <td>2022-02-28</td>\n",
       "    </tr>\n",
       "  </tbody>\n",
       "</table>\n",
       "</div>"
      ],
      "text/plain": [
       "      Unnamed: 0                                    id  \\\n",
       "7151        7151  c4148656-78a9-4f3e-b393-134fdc5ef900   \n",
       "7152        7152  564e3411-768d-4250-a624-b119d696f103   \n",
       "7153        7153  2b0a652b-46a2-4297-b619-5efeeb222787   \n",
       "7154        7154  719fd40a-870e-4144-b324-55dff2e66fb4   \n",
       "7155        7155  86d1806b-5575-4a7e-9160-f24f12be6c95   \n",
       "\n",
       "                         product_name  \\\n",
       "7151  sony playstation vr move bundle   \n",
       "7152         playstation vr v2 bundle   \n",
       "7153             oculus quest 2 256gb   \n",
       "7154   logitech driving force shifter   \n",
       "7155   20 game nintendo switch bundle   \n",
       "\n",
       "                                               category  \\\n",
       "7151  Video Games & Consoles / Consoles / PS4 (Sony ...   \n",
       "7152  Video Games & Consoles / Consoles / PS4 (Sony ...   \n",
       "7153  Video Games & Consoles / Other Video Games & C...   \n",
       "7154  Video Games & Consoles / Video Game Accessorie...   \n",
       "7155                     Video Games & Consoles / Games   \n",
       "\n",
       "                                    product_description   price  \\\n",
       "7151  sony playstation vr move bundle353cash collect...  260.00   \n",
       "7152  playstation vr v2 bundle355cash collection del...  235.00   \n",
       "7153  pick 250comes two pistol stock gun game protec...  250.00   \n",
       "7154  bought christmas curry retailing 43.99 used al...   30.00   \n",
       "7155  nintendo switch console used 2 3 time almost 3...  450.00   \n",
       "\n",
       "                         location  \\\n",
       "7151    acocks green west midland   \n",
       "7152    acocks green west midland   \n",
       "7153               montrose angus   \n",
       "7154  carrickfergus county antrim   \n",
       "7155                 poole dorset   \n",
       "\n",
       "                                                    url     page_id  \\\n",
       "7151  https://www.gumtree.com/p/ps4/sony-playstation...  1422159237   \n",
       "7152  https://www.gumtree.com/p/ps4/playstation-vr-v...  1422159464   \n",
       "7153  https://www.gumtree.com/p/other-video-games/oc...  1426668818   \n",
       "7154  https://www.gumtree.com/p/other-video-game-acc...  1426699715   \n",
       "7155  https://www.gumtree.com/p/video-games/20-games...  1426699649   \n",
       "\n",
       "     create_time  \n",
       "7151  2022-02-28  \n",
       "7152  2022-02-28  \n",
       "7153  2022-02-28  \n",
       "7154  2022-02-28  \n",
       "7155  2022-02-28  "
      ]
     },
     "execution_count": 30,
     "metadata": {},
     "output_type": "execute_result"
    }
   ],
   "source": [
    "df.tail()"
   ]
  }
 ],
 "metadata": {
  "interpreter": {
   "hash": "69963e5aa0d531844202b645261ed3a8585bef8def669cf4b049dba5e5a927e8"
  },
  "kernelspec": {
   "display_name": "Python 3.10.4 ('fb-ml')",
   "language": "python",
   "name": "python3"
  },
  "language_info": {
   "codemirror_mode": {
    "name": "ipython",
    "version": 3
   },
   "file_extension": ".py",
   "mimetype": "text/x-python",
   "name": "python",
   "nbconvert_exporter": "python",
   "pygments_lexer": "ipython3",
   "version": "3.10.4 | packaged by conda-forge | (main, Mar 30 2022, 08:38:02) [MSC v.1916 64 bit (AMD64)]"
  },
  "orig_nbformat": 4
 },
 "nbformat": 4,
 "nbformat_minor": 2
}
